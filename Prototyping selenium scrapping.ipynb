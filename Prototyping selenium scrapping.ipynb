{
 "cells": [
  {
   "cell_type": "markdown",
   "metadata": {},
   "source": [
    "All the dependencies"
   ]
  },
  {
   "cell_type": "code",
   "execution_count": 1,
   "metadata": {},
   "outputs": [],
   "source": [
    "import time            \n",
    "import re            \n",
    "import os    \n",
    "import sys  \n",
    "import codecs  \n",
    "import shutil\n",
    "import urllib \n",
    "from selenium import webdriver        \n",
    "from selenium.webdriver.common.keys import Keys        \n",
    "import selenium.webdriver.support.ui as ui        \n",
    "from selenium.webdriver.common.action_chains import ActionChains"
   ]
  },
  {
   "cell_type": "code",
   "execution_count": 2,
   "metadata": {},
   "outputs": [],
   "source": [
    "# defining driver for the operation, we use the firefox browser with geckodriver installed\n",
    "driver = webdriver.Firefox()\n",
    "# not sure why we need to wait explicitly for 10 seconds here though\n",
    "wait = ui.WebDriverWait(driver,10)"
   ]
  },
  {
   "cell_type": "code",
   "execution_count": 3,
   "metadata": {},
   "outputs": [],
   "source": [
    "def LoginWeibo(username, password):\n",
    "    try:\n",
    "        #输入用户名/密码登录\n",
    "        print(u'准备登陆Weibo.cn网站...')\n",
    "        driver.get(\"http://login.sina.com.cn/\")\n",
    "        elem_user = driver.find_element_by_name(\"username\")\n",
    "        elem_user.send_keys(username) #用户名\n",
    "        elem_pwd = driver.find_element_by_name(\"password\")\n",
    "        elem_pwd.send_keys(password)  #密码\n",
    "        #elem_rem = driver.find_element_by_name(\"safe_login\")\n",
    "        #elem_rem.click()             #安全登录\n",
    " \n",
    "        #重点: 暂停时间输入验证码(http://login.weibo.cn/login/ 手机端需要)\n",
    "        time.sleep(20)\n",
    "        \n",
    "        #elem_sub = driver.find_element_by_xpath(\"//input[@class='smb_btn']\")\n",
    "        #elem_sub.click()              #点击登陆 因无name属性\n",
    "        #如果登陆按钮采用动态加载 则采用输入回车键登陆微博\n",
    "        elem_pwd.send_keys(Keys.RETURN)\n",
    "        time.sleep(2)\n",
    "        \n",
    "        #获取Coockie 推荐资料：http://www.cnblogs.com/fnng/p/3269450.html\n",
    "        print(driver.current_url)\n",
    "        print(driver.get_cookies())  #获得cookie信息 dict存储\n",
    "        print(u'输出Cookie键值对信息:')\n",
    "        for cookie in driver.get_cookies(): \n",
    "            for key in cookie:\n",
    "                print(key, cookie[key])\n",
    "                    \n",
    "        #driver.get_cookies()类型list 仅包含一个元素cookie类型dict\n",
    "        print(u'登陆成功...')\n",
    "        \n",
    "        \n",
    "    except Exception as e:      \n",
    "        print(\"Error: \",e)\n",
    "    finally:    \n",
    "        print(u'End LoginWeibo!\\n\\n')"
   ]
  },
  {
   "cell_type": "code",
   "execution_count": 4,
   "metadata": {},
   "outputs": [],
   "source": [
    "# authentication details\n",
    "username = 'ruoyzhang@outlook.com'\n",
    "password = 'Cyfloel1.1.'"
   ]
  },
  {
   "cell_type": "code",
   "execution_count": 5,
   "metadata": {},
   "outputs": [
    {
     "name": "stdout",
     "output_type": "stream",
     "text": [
      "准备登陆Weibo.cn网站...\n",
      "https://login.sina.com.cn/signup/signin.php\n",
      "[{'name': 'ULOGIN_IMG', 'value': 'gz-9f05f469cece57c5559d5a9625b616d4a1ab', 'path': '/', 'domain': '.sina.com.cn', 'secure': False, 'httpOnly': False}]\n",
      "输出Cookie键值对信息:\n",
      "name ULOGIN_IMG\n",
      "value gz-9f05f469cece57c5559d5a9625b616d4a1ab\n",
      "path /\n",
      "domain .sina.com.cn\n",
      "secure False\n",
      "httpOnly False\n",
      "登陆成功...\n",
      "End LoginWeibo!\n",
      "\n",
      "\n"
     ]
    }
   ],
   "source": [
    "LoginWeibo(username, password)"
   ]
  },
  {
   "cell_type": "markdown",
   "metadata": {},
   "source": [
    "\n",
    "Now from here on let's try out how we can execute advanced search by using 's.weibo.com'"
   ]
  },
  {
   "cell_type": "code",
   "execution_count": 6,
   "metadata": {},
   "outputs": [],
   "source": [
    "# navigate to the search interface\n",
    "driver.get(\"http://s.weibo.com/\")"
   ]
  },
  {
   "cell_type": "code",
   "execution_count": 7,
   "metadata": {},
   "outputs": [],
   "source": [
    "# set search key value\n",
    "key = '人工智能'"
   ]
  },
  {
   "cell_type": "code",
   "execution_count": 10,
   "metadata": {},
   "outputs": [],
   "source": [
    "# input the search key and hit enter in order to advance to the advanced search interface\n",
    "item_inp = driver.find_element_by_xpath(\"//input[@type='text']\")\n",
    "item_inp.send_keys(key)\n",
    "item_inp.send_keys(Keys.RETURN)"
   ]
  },
  {
   "cell_type": "code",
   "execution_count": 79,
   "metadata": {},
   "outputs": [],
   "source": [
    "# now we try to instruct selenium to click on the 'advacned search' bottom\n",
    "item_as = driver.find_element_by_xpath(\"//a[@node-type='advsearch']\")\n",
    "item_as.click()"
   ]
  },
  {
   "cell_type": "markdown",
   "metadata": {},
   "source": [
    "now we try to enter the specific search values, we take the below example\n",
    "\n",
    "\n",
    "key: 人工智能\n",
    "\n",
    "time: 01/04/2019 - 07/04/2019"
   ]
  },
  {
   "cell_type": "code",
   "execution_count": 80,
   "metadata": {},
   "outputs": [],
   "source": [
    "begin_date = '2019-4-1'\n",
    "begin_year = str(int(begin_date.split('-')[0]))\n",
    "begin_month = str(int(begin_date.split('-')[1])-1)\n",
    "begin_day = str(int(begin_date.split('-')[2]))\n",
    "\n",
    "\n",
    "end_date = '2019-4-7'\n",
    "end_year = str(int(end_date.split('-')[0]))\n",
    "end_month = str(int(end_date.split('-')[1])-1)\n",
    "end_day = str(int(end_date.split('-')[2]))"
   ]
  },
  {
   "cell_type": "code",
   "execution_count": 81,
   "metadata": {},
   "outputs": [
    {
     "data": {
      "text/plain": [
       "('3', '1')"
      ]
     },
     "execution_count": 81,
     "metadata": {},
     "output_type": "execute_result"
    }
   ],
   "source": [
    "begin_month, begin_day"
   ]
  },
  {
   "cell_type": "code",
   "execution_count": 82,
   "metadata": {},
   "outputs": [],
   "source": [
    "# below for instructing selenium to click on the 'time' input field\n",
    "item_time_begin = driver.find_element_by_xpath(\"//dd/input[@value='请选择日期'][1]\")\n",
    "item_time_begin.click()"
   ]
  },
  {
   "cell_type": "code",
   "execution_count": 83,
   "metadata": {},
   "outputs": [],
   "source": [
    "# below for instructing selenium to select the right **YEAR** value\n",
    "item_begin_date_y = driver.find_element_by_xpath(\"//div[@class='selector']/select[@class='year']\")\n",
    "item_begin_date_y.click()\n",
    "item_begin_date_y_choice = driver.find_element_by_xpath(\"//div[@class='selector']/select[@class='year']/option[@value={}]\".format(begin_year))\n",
    "item_begin_date_y_choice.click()"
   ]
  },
  {
   "cell_type": "code",
   "execution_count": 84,
   "metadata": {},
   "outputs": [],
   "source": [
    "# below for instructing selenium to select the right **MONTH** value\n",
    "item_begin_date_m = driver.find_element_by_xpath(\"//div[@class='selector']/select[@class='month']\")\n",
    "item_begin_date_m.click()\n",
    "item_begin_date_m_choice = driver.find_element_by_xpath(\"//div[@class='selector']/select[@class='month']/option[@value={}]\".format(begin_month))\n",
    "item_begin_date_m_choice.click()"
   ]
  },
  {
   "cell_type": "code",
   "execution_count": 87,
   "metadata": {},
   "outputs": [],
   "source": [
    "# below for instructing selenium to select the right **DAY** value\n",
    "item_begin_date_d = driver.find_element_by_xpath(\"//ul[@class='days']/li/a[@title='{}']\".format(begin_date))\n",
    "item_begin_date_d.click()"
   ]
  },
  {
   "cell_type": "markdown",
   "metadata": {},
   "source": [
    "Begin date input was successful, now let's replicate the strategy for end date"
   ]
  },
  {
   "cell_type": "code",
   "execution_count": 89,
   "metadata": {},
   "outputs": [],
   "source": [
    "item_time_end = driver.find_element_by_xpath(\"//dd/input[@value='请选择日期'][2]\")\n",
    "item_time_end.click()"
   ]
  },
  {
   "cell_type": "code",
   "execution_count": null,
   "metadata": {},
   "outputs": [],
   "source": []
  }
 ],
 "metadata": {
  "kernelspec": {
   "display_name": "Python 3",
   "language": "python",
   "name": "python3"
  },
  "language_info": {
   "codemirror_mode": {
    "name": "ipython",
    "version": 3
   },
   "file_extension": ".py",
   "mimetype": "text/x-python",
   "name": "python",
   "nbconvert_exporter": "python",
   "pygments_lexer": "ipython3",
   "version": "3.6.4"
  }
 },
 "nbformat": 4,
 "nbformat_minor": 2
}
