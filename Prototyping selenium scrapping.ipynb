{
 "cells": [
  {
   "cell_type": "markdown",
   "metadata": {},
   "source": [
    "All the dependencies"
   ]
  },
  {
   "cell_type": "code",
   "execution_count": 1,
   "metadata": {},
   "outputs": [],
   "source": [
    "import time            \n",
    "import re            \n",
    "import os    \n",
    "import sys  \n",
    "import codecs  \n",
    "import shutil\n",
    "import urllib \n",
    "from selenium import webdriver        \n",
    "from selenium.webdriver.common.keys import Keys        \n",
    "import selenium.webdriver.support.ui as ui        \n",
    "from selenium.webdriver.common.action_chains import ActionChains"
   ]
  },
  {
   "cell_type": "code",
   "execution_count": 2,
   "metadata": {},
   "outputs": [],
   "source": [
    "# defining driver for the operation, we use the firefox browser with geckodriver installed\n",
    "driver = webdriver.Firefox()\n",
    "# not sure why we need to wait explicitly for 10 seconds here though\n",
    "wait = ui.WebDriverWait(driver,10)"
   ]
  },
  {
   "cell_type": "code",
   "execution_count": 5,
   "metadata": {},
   "outputs": [],
   "source": [
    "def LoginWeibo(username, password):\n",
    "    try:\n",
    "        #输入用户名/密码登录\n",
    "        print(u'准备登陆Weibo.cn网站...')\n",
    "        driver.get(\"http://login.sina.com.cn/\")\n",
    "        elem_user = driver.find_element_by_name(\"username\")\n",
    "        elem_user.send_keys(username) #用户名\n",
    "        elem_pwd = driver.find_element_by_name(\"password\")\n",
    "        elem_pwd.send_keys(password)  #密码\n",
    "        #elem_rem = driver.find_element_by_name(\"safe_login\")\n",
    "        #elem_rem.click()             #安全登录\n",
    " \n",
    "        #重点: 暂停时间输入验证码(http://login.weibo.cn/login/ 手机端需要)\n",
    "        time.sleep(20)\n",
    "        \n",
    "        #elem_sub = driver.find_element_by_xpath(\"//input[@class='smb_btn']\")\n",
    "        #elem_sub.click()              #点击登陆 因无name属性\n",
    "        #如果登陆按钮采用动态加载 则采用输入回车键登陆微博\n",
    "        elem_pwd.send_keys(Keys.RETURN)\n",
    "        time.sleep(2)\n",
    "        \n",
    "        #获取Coockie 推荐资料：http://www.cnblogs.com/fnng/p/3269450.html\n",
    "        print(driver.current_url)\n",
    "        print(driver.get_cookies())  #获得cookie信息 dict存储\n",
    "        print(u'输出Cookie键值对信息:')\n",
    "        for cookie in driver.get_cookies(): \n",
    "            for key in cookie:\n",
    "                print(key, cookie[key])\n",
    "                    \n",
    "        #driver.get_cookies()类型list 仅包含一个元素cookie类型dict\n",
    "        print(u'登陆成功...')\n",
    "        \n",
    "        \n",
    "    except Exception as e:      \n",
    "        print(\"Error: \",e)\n",
    "    finally:    \n",
    "        print(u'End LoginWeibo!\\n\\n')"
   ]
  },
  {
   "cell_type": "code",
   "execution_count": 6,
   "metadata": {},
   "outputs": [],
   "source": [
    "# authentication details\n",
    "username = 'ruoyzhang@outlook.com'\n",
    "password = 'Cyfloel1.1.'"
   ]
  },
  {
   "cell_type": "code",
   "execution_count": 7,
   "metadata": {
    "scrolled": true
   },
   "outputs": [
    {
     "name": "stdout",
     "output_type": "stream",
     "text": [
      "准备登陆Weibo.cn网站...\n",
      "https://login.sina.com.cn/signup/signin.php\n",
      "[{'name': 'ULOGIN_IMG', 'value': 'gz-d08dc3b32bef0f974ed8892a2d3c9ddb4e80', 'path': '/', 'domain': '.sina.com.cn', 'secure': False, 'httpOnly': False}]\n",
      "输出Cookie键值对信息:\n",
      "name ULOGIN_IMG\n",
      "value gz-d08dc3b32bef0f974ed8892a2d3c9ddb4e80\n",
      "path /\n",
      "domain .sina.com.cn\n",
      "secure False\n",
      "httpOnly False\n",
      "name SCF\n",
      "value Arw1oIAzVDgvmTmuhXArhibCxjKk3a3GeEQ40dWx_WhM5pGP6koO0K8NNVeT77ZwsBaBV41K8sNq1G_iQRCA9Vo.\n",
      "path /\n",
      "domain .sina.com.cn\n",
      "secure False\n",
      "httpOnly True\n",
      "expiry 1870441160\n",
      "name tgc\n",
      "value TGT-NzA3MTcwOTQwNw==-1555081160-gz-EFD55C487E086E8609463BF4D6D7CA0C-1\n",
      "path /\n",
      "domain .login.sina.com.cn\n",
      "secure False\n",
      "httpOnly True\n",
      "name SUB\n",
      "value _2A25xtNeYDeRhGeFO7FMW8CfIyzuIHXVSwE5QrDV_PUNbm9BeLRHukW9NQUepNZCmawrJO4DPdEs1YtFsCgpLZ6vB\n",
      "path /\n",
      "domain .sina.com.cn\n",
      "secure False\n",
      "httpOnly True\n",
      "name SUBP\n",
      "value 0033WrSXqPxfM725Ws9jqgMF55529P9D9WFj.G74qcYWJ5RDpGXlI4xT5NHD95QNehMpS054Sh5NWs4DqcjZKGHLI-iadXiad7tt\n",
      "path /\n",
      "domain .sina.com.cn\n",
      "secure False\n",
      "httpOnly False\n",
      "name ALC\n",
      "value ac%3D0%26bt%3D1555081160%26cv%3D5.0%26et%3D1586617160%26ic%3D1392454434%26login_time%3D1555081160%26scf%3D%26uid%3D7071709407%26vf%3D0%26vs%3D0%26vt%3D0%26es%3D2d88212994e105f3f82952096a6c73a9\n",
      "path /\n",
      "domain .login.sina.com.cn\n",
      "secure False\n",
      "httpOnly True\n",
      "expiry 1586617160\n",
      "name ALF\n",
      "value 1586617160\n",
      "path /\n",
      "domain .sina.com.cn\n",
      "secure False\n",
      "httpOnly False\n",
      "expiry 1586617160\n",
      "name LT\n",
      "value 1555081160\n",
      "path /\n",
      "domain .login.sina.com.cn\n",
      "secure False\n",
      "httpOnly False\n",
      "name sso_info\n",
      "value v02m6alo5qztYydlpWpkKa9r5Cmva-Jp5WpmYO0t4yDnLGNs4C5jYOAtw==\n",
      "path /\n",
      "domain .sina.com.cn\n",
      "secure False\n",
      "httpOnly False\n",
      "expiry 1586703560\n",
      "登陆成功...\n",
      "End LoginWeibo!\n",
      "\n",
      "\n"
     ]
    }
   ],
   "source": [
    "LoginWeibo(username, password)"
   ]
  },
  {
   "cell_type": "markdown",
   "metadata": {},
   "source": [
    "\n",
    "Now from here on let's try out how we can execute advanced search by using 's.weibo.com'"
   ]
  },
  {
   "cell_type": "code",
   "execution_count": 11,
   "metadata": {},
   "outputs": [],
   "source": [
    "# navigate to the search interface\n",
    "driver.get(\"http://s.weibo.com/\")"
   ]
  },
  {
   "cell_type": "code",
   "execution_count": 12,
   "metadata": {},
   "outputs": [],
   "source": [
    "# set search key value\n",
    "key = '人工智能'"
   ]
  },
  {
   "cell_type": "code",
   "execution_count": 13,
   "metadata": {},
   "outputs": [],
   "source": [
    "# input the search key and hit enter in order to advance to the advanced search interface\n",
    "item_inp = driver.find_element_by_xpath(\"//input[@type='text']\")\n",
    "item_inp.send_keys(key)\n",
    "item_inp.send_keys(Keys.RETURN)"
   ]
  },
  {
   "cell_type": "code",
   "execution_count": 15,
   "metadata": {},
   "outputs": [],
   "source": [
    "# now we try to instruct selenium to click on the 'advacned search' bottom\n",
    "item_as = driver.find_element_by_xpath(\"//a[@node-type='advsearch']\")\n",
    "item_as.click()"
   ]
  },
  {
   "cell_type": "markdown",
   "metadata": {},
   "source": [
    "now we try to enter the specific search values, we take the below example\n",
    "\n",
    "\n",
    "key: 人工智能\n",
    "\n",
    "time: 01/04/2019 - 07/04/2019"
   ]
  },
  {
   "cell_type": "code",
   "execution_count": 16,
   "metadata": {},
   "outputs": [],
   "source": [
    "begin_date = '2019-4-1'\n",
    "begin_year = str(int(begin_date.split('-')[0]))\n",
    "begin_month = str(int(begin_date.split('-')[1])-1)\n",
    "begin_day = str(int(begin_date.split('-')[2]))\n",
    "\n",
    "\n",
    "end_date = '2019-4-7'\n",
    "end_year = str(int(end_date.split('-')[0]))\n",
    "end_month = str(int(end_date.split('-')[1])-1)\n",
    "end_day = str(int(end_date.split('-')[2]))"
   ]
  },
  {
   "cell_type": "code",
   "execution_count": 18,
   "metadata": {},
   "outputs": [],
   "source": [
    "# below for instructing selenium to click on the 'time' input field\n",
    "item_time_begin = driver.find_element_by_xpath(\"//dd/input[@value='请选择日期'][1]\")\n",
    "item_time_begin.click()"
   ]
  },
  {
   "cell_type": "code",
   "execution_count": 19,
   "metadata": {},
   "outputs": [],
   "source": [
    "# below for instructing selenium to select the right **YEAR** value\n",
    "item_begin_date_y = driver.find_element_by_xpath(\"//div[@class='selector']/select[@class='year']\")\n",
    "item_begin_date_y.click()\n",
    "item_begin_date_y_choice = driver.find_element_by_xpath(\"//div[@class='selector']/select[@class='year']/option[@value={}]\".format(begin_year))\n",
    "item_begin_date_y_choice.click()"
   ]
  },
  {
   "cell_type": "code",
   "execution_count": 20,
   "metadata": {},
   "outputs": [],
   "source": [
    "# below for instructing selenium to select the right **MONTH** value\n",
    "item_begin_date_m = driver.find_element_by_xpath(\"//div[@class='selector']/select[@class='month']\")\n",
    "item_begin_date_m.click()\n",
    "item_begin_date_m_choice = driver.find_element_by_xpath(\"//div[@class='selector']/select[@class='month']/option[@value={}]\".format(begin_month))\n",
    "item_begin_date_m_choice.click()"
   ]
  },
  {
   "cell_type": "code",
   "execution_count": 21,
   "metadata": {},
   "outputs": [],
   "source": [
    "# below for instructing selenium to select the right **DAY** value\n",
    "item_begin_date_d = driver.find_element_by_xpath(\"//ul[@class='days']/li/a[@title='{}']\".format(begin_date))\n",
    "item_begin_date_d.click()"
   ]
  },
  {
   "cell_type": "markdown",
   "metadata": {},
   "source": [
    "Begin date input was successful, now let's replicate the strategy for end date"
   ]
  },
  {
   "cell_type": "code",
   "execution_count": 22,
   "metadata": {},
   "outputs": [],
   "source": [
    "item_time_end = driver.find_element_by_xpath(\"//dd/input[@value='请选择日期'][2]\")\n",
    "item_time_end.click()"
   ]
  },
  {
   "cell_type": "code",
   "execution_count": 23,
   "metadata": {},
   "outputs": [],
   "source": [
    "item_end_date_y = driver.find_element_by_xpath(\"//div[@class='selector']/select[@class='year']\")\n",
    "item_end_date_y.click()\n",
    "item_end_date_y_choice = driver.find_element_by_xpath(\"//div[@class='selector']/select[@class='year']/option[@value={}]\".format(end_year))\n",
    "item_end_date_y_choice.click()"
   ]
  },
  {
   "cell_type": "code",
   "execution_count": 24,
   "metadata": {},
   "outputs": [],
   "source": [
    "item_end_date_m = driver.find_element_by_xpath(\"//div[@class='selector']/select[@class='month']\")\n",
    "item_end_date_m.click()\n",
    "item_end_date_m_choice = driver.find_element_by_xpath(\"//div[@class='selector']/select[@class='month']/option[@value={}]\".format(end_month))\n",
    "item_end_date_m_choice.click()"
   ]
  },
  {
   "cell_type": "code",
   "execution_count": 25,
   "metadata": {},
   "outputs": [],
   "source": [
    "item_end_date_d = driver.find_element_by_xpath(\"//ul[@class='days']/li/a[@title='{}']\".format(end_date))\n",
    "item_end_date_d.click()"
   ]
  },
  {
   "cell_type": "code",
   "execution_count": 33,
   "metadata": {},
   "outputs": [],
   "source": [
    "# click on the 'search' button\n",
    "item_search_button = driver.find_element_by_xpath(\"//div[@class='m-adv-search']/div[@class='btn-box']/a[@class='s-btn-a']\")\n",
    "item_search_button.click()"
   ]
  },
  {
   "cell_type": "markdown",
   "metadata": {},
   "source": [
    "## Now we move onto the actual scrapping part"
   ]
  },
  {
   "cell_type": "code",
   "execution_count": 38,
   "metadata": {},
   "outputs": [],
   "source": [
    "tweets = driver.find_elements_by_xpath(\"//p[@class='txt' and @node-type='feed_list_content']\")"
   ]
  },
  {
   "cell_type": "code",
   "execution_count": 40,
   "metadata": {
    "scrolled": true
   },
   "outputs": [
    {
     "name": "stdout",
     "output_type": "stream",
     "text": [
      "//@人民日报:【感兴趣新职业？这些专业值得你关注！】①人工智能：35所高校新增审批；②智能科学与技术：96所高校新增备案；③机器人工程：101所高校新增备案；④数据科学与大数据技术：196所高校新增备案；⑤物联网工程：14所高校新增备案；⑥电子竞技运动与管理：2所高校新增备案。更多↓\n",
      "----------------------------\n",
      "【#13个求职新方向#！有你心动的职业吗】近日，人社部、市场监管总局、统计局联合发布13个新职业，既有现在流行的人工智能、大数据、云计算、物联网等工程技术人员，也有电子竞技员、无人机驾驶员等新颖工种…你心动了吗？哪些学校开设了相关专业值得关注？戳图了解↓↓转给正在求学的TA！\n",
      "----------------------------\n",
      "第三次参加CCF-GAIR （全球人工智能与机器人峰会），今年参加的是IoT专场，给大家介绍了小米AI和IoT的一些进展。很高兴和海尔CTO赵峰博士、西工大谢磊教授同台，也感谢北大邹月娴老师的主持。资深米粉谢磊老师在他的演讲中多次提到小米和小爱同学（图7、8、9），他的团队和小米语音团队的合作堪称产学 展开全文c\n",
      "----------------------------\n",
      "【阿里开了家人工智能服饰店，想为你解决“今天穿什么”的难题】今日，阿里巴巴在香港落地了一家人工智能服饰店——“FashionAI概念店”（“时尚之心概念店”）。据称这家店铺是一家“快闪店”，7月4日到7日，只开4天。 阿里开了家人工智能服饰店，想为你解决“今天...\n",
      "----------------------------\n",
      "科技改变生活，人工智能的时代来了，全程高能，哈哈哈哈哈笑成智障！ L超搞笑视频集锦的微博视频\n",
      "----------------------------\n",
      "@吃鱼小书屋 【#转发赠书##吃鱼小书屋# 】 #意少书单#《机甲星球》邀你一起赴一场英雄的梦，开一扇想象的窗。人工智能觉醒，人类何去何从？不预设答案，只教你勇敢！评论求奖！\n",
      "----------------------------\n",
      "【#转发赠书##吃鱼小书屋# 】“意林”携手全球华语科幻星云获奖得者、迪士尼签约作家杨鹏匠心打造《机甲星球》（现已上市），邀你一起赴一场英雄的梦，开一扇想象的窗。人工智能觉醒，人类何去何从？不预设答案，只教你勇敢！#意少书单# 邀你参加烧脑之战！转发关注@吃鱼小书屋 ，抽2人每人送《机甲星 展开全文c\n",
      "----------------------------\n",
      "//@人民日报:【感兴趣新职业？这些专业值得你关注！】①人工智能：35所高校新增审批；②智能科学与技术：96所高校新增备案；③机器人工程：101所高校新增备案；④数据科学与大数据技术：196所高校新增备案；⑤物联网工程：14所高校新增备案；⑥电子竞技运动与管理：2所高校新增备案。更多↓\n",
      "----------------------------\n",
      "【#13个求职新方向#！有你心动的职业吗】近日，人社部、市场监管总局、统计局联合发布13个新职业，既有现在流行的人工智能、大数据、云计算、物联网等工程技术人员，也有电子竞技员、无人机驾驶员等新颖工种…你心动了吗？哪些学校开设了相关专业值得关注？戳图了解↓↓转给正在求学的TA！\n",
      "----------------------------\n",
      "@吃鱼小书屋 【#转发赠书##吃鱼小书屋# 】 #意少书单#《机甲星球》邀你一起赴一场英雄的梦，开一扇想象的窗。人工智能觉醒，人类何去何从？不预设答案，只教你勇敢！评论求中！\n",
      "----------------------------\n",
      "【#转发赠书##吃鱼小书屋# 】“意林”携手全球华语科幻星云获奖得者、迪士尼签约作家杨鹏匠心打造《机甲星球》（现已上市），邀你一起赴一场英雄的梦，开一扇想象的窗。人工智能觉醒，人类何去何从？不预设答案，只教你勇敢！#意少书单# 邀你参加烧脑之战！转发关注@吃鱼小书屋 ，抽2人每人送《机甲星 展开全文c\n",
      "----------------------------\n",
      "【好神奇！智能公交来了：扫手乘车，还有机器人教你换乘！】昨天，“自动驾驶熊猫智能公交”进行了全球首次发布。这款公交车到底有多神奇？记者到现场亲自体验：全车整合了二十多项新型的人工智能技术，AI机器视觉比例达到70%以上！以手掌静脉识别技术为例，只需提前进行简单注册，走上公交车的时候扫 展开全文c\n",
      "----------------------------\n",
      "@吃鱼小书屋 【#转发赠书##吃鱼小书屋# 】 #意少书单#《机甲星球》邀你一起赴一场英雄的梦，开一扇想象的窗。人工智能觉醒，人类何去何从？不预设答案，只教你勇敢！评论求中奖！\n",
      "----------------------------\n",
      "【#转发赠书##吃鱼小书屋# 】“意林”携手全球华语科幻星云获奖得者、迪士尼签约作家杨鹏匠心打造《机甲星球》（现已上市），邀你一起赴一场英雄的梦，开一扇想象的窗。人工智能觉醒，人类何去何从？不预设答案，只教你勇敢！#意少书单# 邀你参加烧脑之战！转发关注@吃鱼小书屋 ，抽2人每人送《机甲星 展开全文c\n",
      "----------------------------\n",
      "「你替Ava感到难过？替自己难过吧。将来有一天，人工智能回顾我们，就像我们回看非洲平原的化石一样。直立猿人，生活在尘土里，使用粗糙的语言和工具，全部灭绝。」\n",
      "----------------------------\n",
      "//@人民日报:【感兴趣新职业？这些专业值得你关注！】①人工智能：35所高校新增审批；②智能科学与技术：96所高校新增备案；③机器人工程：101所高校新增备案；④数据科学与大数据技术：196所高校新增备案；⑤物联网工程：14所高校新增备案；⑥电子竞技运动与管理：2所高校新增备案。更多↓\n",
      "----------------------------\n",
      "【#13个求职新方向#！有你心动的职业吗】近日，人社部、市场监管总局、统计局联合发布13个新职业，既有现在流行的人工智能、大数据、云计算、物联网等工程技术人员，也有电子竞技员、无人机驾驶员等新颖工种…你心动了吗？哪些学校开设了相关专业值得关注？戳图了解↓↓转给正在求学的TA！\n",
      "----------------------------\n",
      "【感兴趣新职业？这些专业值得你关注！】①人工智能：35所高校新增审批；②智能科学与技术：96所高校新增备案；③机器人工程：101所高校新增备案；④数据科学与大数据技术：196所高校新增备案；⑤物联网工程：14所高校新增备案；⑥电子竞技运动与管理：2所高校新增备案。更多↓\n",
      "----------------------------\n",
      "【#13个求职新方向#！有你心动的职业吗】近日，人社部、市场监管总局、统计局联合发布13个新职业，既有现在流行的人工智能、大数据、云计算、物联网等工程技术人员，也有电子竞技员、无人机驾驶员等新颖工种…你心动了吗？哪些学校开设了相关专业值得关注？戳图了解↓↓转给正在求学的TA！\n",
      "----------------------------\n",
      "发布了头条文章：《繁荣该如何持续-简略版》 如何度过技术进步带来的失业潮 人工智能 #AI# O繁荣该如何持续-简略版\n",
      "----------------------------\n",
      "#华样聊天#手机芯片听得多了，但你听说过AI芯片吗？简单来说，就是能将人工智能植入手机，让手机更懂我们的一款强大芯片。刚刚亮相的#华为Mate10#搭载的#麒麟970#芯片就是全球首款AI芯片哦采用10nm制程工艺的麒麟970，不仅在芯片上了集成了高达55亿个晶体管，更是首次集成了NPU单元，处理AI应用时. 展开全文c\n",
      "----------------------------\n",
      "江科大居然也新增了人工智能专业\n",
      "----------------------------\n",
      "【#13个求职新方向#！有你心动的职业吗】近日，人社部、市场监管总局、统计局联合发布13个新职业，既有现在流行的人工智能、大数据、云计算、物联网等工程技术人员，也有电子竞技员、无人机驾驶员等新颖工种…你心动了吗？哪些学校开设了相关专业值得关注？戳图了解↓↓转给正在求学的TA！\n",
      "----------------------------\n",
      "【听说你又在熬夜查重降重了？】良心推荐你上@PaperYY论文查重 网站，免费查重无限制，报告加密无惧泄露超安全，检测库相对知网更为严格，还支持人工智能降重，写论文事半功倍。建议收藏→ O网页链接\n",
      "----------------------------\n",
      "人间四月天，踏青好去处\n",
      "陕西新华你值得拥有\n",
      "人工智能，电竞，VR\n",
      "包食宿，报销车费，电话：029-89395969\n",
      "----------------------------\n",
      "//@人民日报:【感兴趣新职业？这些专业值得你关注！】①人工智能：35所高校新增审批；②智能科学与技术：96所高校新增备案；③机器人工程：101所高校新增备案；④数据科学与大数据技术：196所高校新增备案；⑤物联网工程：14所高校新增备案；⑥电子竞技运动与管理：2所高校新增备案。更多↓\n",
      "----------------------------\n",
      "【#13个求职新方向#！有你心动的职业吗】近日，人社部、市场监管总局、统计局联合发布13个新职业，既有现在流行的人工智能、大数据、云计算、物联网等工程技术人员，也有电子竞技员、无人机驾驶员等新颖工种…你心动了吗？哪些学校开设了相关专业值得关注？戳图了解↓↓转给正在求学的TA！\n",
      "----------------------------\n",
      "人工智能企业榜单，中国平安位列第5！O网页链接 O网页链接\n",
      "----------------------------\n",
      "//@人民日报:【感兴趣新职业？这些专业值得你关注！】①人工智能：35所高校新增审批；②智能科学与技术：96所高校新增备案；③机器人工程：101所高校新增备案；④数据科学与大数据技术：196所高校新增备案；⑤物联网工程：14所高校新增备案；⑥电子竞技运动与管理：2所高校新增备案。更多↓\n",
      "----------------------------\n",
      "【#13个求职新方向#！有你心动的职业吗】近日，人社部、市场监管总局、统计局联合发布13个新职业，既有现在流行的人工智能、大数据、云计算、物联网等工程技术人员，也有电子竞技员、无人机驾驶员等新颖工种…你心动了吗？哪些学校开设了相关专业值得关注？戳图了解↓↓转给正在求学的TA！\n",
      "----------------------------\n"
     ]
    }
   ],
   "source": [
    "for tweet in tweets:\n",
    "    print(tweet.text)\n",
    "    print('----------------------------')"
   ]
  },
  {
   "cell_type": "code",
   "execution_count": 41,
   "metadata": {},
   "outputs": [
    {
     "data": {
      "text/plain": [
       "30"
      ]
     },
     "execution_count": 41,
     "metadata": {},
     "output_type": "execute_result"
    }
   ],
   "source": [
    "len(tweets)"
   ]
  },
  {
   "cell_type": "markdown",
   "metadata": {},
   "source": [
    "So we have 30 tweets per page, and we have 50 pages of displayed results, this means a total of: *1500* tweets per search.\n",
    "\n",
    "HOWEVER, we notice a bunch of duplicated contents, no real added value, we consider doing the following:\n",
    "\n",
    "* Deduplication per page??  --> based on observation, this will not be very effective since we observe duplicated content across the pages\n",
    "* Deduplication per week --> this will definitely be more effective, however it requires me to run similarity calculations again:\n",
    "    1. strategy 1: cosine similarity with a computation complexity of n^2/2\n",
    "    2. stragey 2: Local sensitive hashing and min hash, need to brush up on the implementation I don't have the old code"
   ]
  },
  {
   "cell_type": "markdown",
   "metadata": {},
   "source": [
    "#### let's test out stategy 1 and see how much time it would take per week"
   ]
  },
  {
   "cell_type": "markdown",
   "metadata": {},
   "source": [
    "First of all, let's scrape off the content and store for a small sample (1500 tweets)"
   ]
  },
  {
   "cell_type": "markdown",
   "metadata": {},
   "source": [
    "extracting dates and other relevant information / fields"
   ]
  },
  {
   "cell_type": "code",
   "execution_count": 46,
   "metadata": {},
   "outputs": [],
   "source": [
    "# the below extracts date\n",
    "item_tweet_dates = driver.find_elements_by_xpath(\"//p[@class='from']\")"
   ]
  },
  {
   "cell_type": "code",
   "execution_count": 49,
   "metadata": {
    "scrolled": true
   },
   "outputs": [
    {
     "name": "stdout",
     "output_type": "stream",
     "text": [
      "04月07日\n",
      "04月07日\n",
      "04月07日\n",
      "04月07日\n",
      "04月07日\n",
      "03月25日\n",
      "04月07日\n",
      "04月07日\n",
      "04月07日\n",
      "03月25日\n",
      "04月07日\n",
      "04月07日\n",
      "03月25日\n",
      "04月07日\n",
      "04月07日\n",
      "04月07日\n",
      "04月07日\n",
      "04月07日\n",
      "04月07日\n",
      "04月07日\n",
      "04月07日\n",
      "04月07日\n",
      "04月07日\n",
      "04月07日\n",
      "04月07日\n",
      "04月07日\n",
      "04月07日\n",
      "04月07日\n",
      "04月07日\n",
      "04月07日\n"
     ]
    }
   ],
   "source": [
    "for date in item_tweet_dates:\n",
    "    print(date.text.split(' ')[0])"
   ]
  },
  {
   "cell_type": "code",
   "execution_count": 50,
   "metadata": {},
   "outputs": [
    {
     "data": {
      "text/plain": [
       "30"
      ]
     },
     "execution_count": 50,
     "metadata": {},
     "output_type": "execute_result"
    }
   ],
   "source": [
    "len(item_tweet_dates)"
   ]
  },
  {
   "cell_type": "markdown",
   "metadata": {},
   "source": [
    "We observe dates outside of the searched range, this should be from the original tweets of retweets, let's see if we can effectively eliminate them"
   ]
  },
  {
   "cell_type": "code",
   "execution_count": null,
   "metadata": {},
   "outputs": [],
   "source": []
  },
  {
   "cell_type": "code",
   "execution_count": null,
   "metadata": {},
   "outputs": [],
   "source": []
  },
  {
   "cell_type": "code",
   "execution_count": null,
   "metadata": {},
   "outputs": [],
   "source": []
  },
  {
   "cell_type": "code",
   "execution_count": null,
   "metadata": {},
   "outputs": [],
   "source": []
  },
  {
   "cell_type": "code",
   "execution_count": null,
   "metadata": {},
   "outputs": [],
   "source": []
  },
  {
   "cell_type": "code",
   "execution_count": null,
   "metadata": {},
   "outputs": [],
   "source": []
  }
 ],
 "metadata": {
  "kernelspec": {
   "display_name": "Python 3",
   "language": "python",
   "name": "python3"
  },
  "language_info": {
   "codemirror_mode": {
    "name": "ipython",
    "version": 3
   },
   "file_extension": ".py",
   "mimetype": "text/x-python",
   "name": "python",
   "nbconvert_exporter": "python",
   "pygments_lexer": "ipython3",
   "version": "3.6.4"
  }
 },
 "nbformat": 4,
 "nbformat_minor": 2
}
