{
 "cells": [
  {
   "cell_type": "markdown",
   "metadata": {},
   "source": [
    "All the dependencies"
   ]
  },
  {
   "cell_type": "code",
   "execution_count": 1,
   "metadata": {},
   "outputs": [],
   "source": [
    "import time            \n",
    "import re            \n",
    "import os\n",
    "import sys  \n",
    "import codecs  \n",
    "import shutil\n",
    "import urllib \n",
    "from selenium import webdriver        \n",
    "from selenium.webdriver.common.keys import Keys        \n",
    "import selenium.webdriver.support.ui as ui        \n",
    "from selenium.webdriver.common.action_chains import ActionChains\n",
    "from datetime import datetime\n",
    "from tqdm import tqdm\n",
    "import pickle"
   ]
  },
  {
   "cell_type": "code",
   "execution_count": 2,
   "metadata": {},
   "outputs": [],
   "source": [
    "# defining driver for the operation, we use the firefox browser with geckodriver installed\n",
    "driver = webdriver.Firefox()\n",
    "# not sure why we need to wait explicitly for 10 seconds here though\n",
    "wait = ui.WebDriverWait(driver,10)"
   ]
  },
  {
   "cell_type": "code",
   "execution_count": 3,
   "metadata": {},
   "outputs": [],
   "source": [
    "def LoginWeibo(username, password):\n",
    "    try:\n",
    "        #输入用户名/密码登录\n",
    "        print(u'准备登陆Weibo.cn网站...')\n",
    "        driver.get(\"http://login.sina.com.cn/\")\n",
    "        elem_user = driver.find_element_by_name(\"username\")\n",
    "        elem_user.send_keys(username) #用户名\n",
    "        elem_pwd = driver.find_element_by_name(\"password\")\n",
    "        elem_pwd.send_keys(password)  #密码\n",
    "        #elem_rem = driver.find_element_by_name(\"safe_login\")\n",
    "        #elem_rem.click()             #安全登录\n",
    " \n",
    "        #重点: 暂停时间输入验证码(http://login.weibo.cn/login/ 手机端需要)\n",
    "        time.sleep(20)\n",
    "        \n",
    "        #elem_sub = driver.find_element_by_xpath(\"//input[@class='smb_btn']\")\n",
    "        #elem_sub.click()              #点击登陆 因无name属性\n",
    "        #如果登陆按钮采用动态加载 则采用输入回车键登陆微博\n",
    "        elem_pwd.send_keys(Keys.RETURN)\n",
    "        time.sleep(2)\n",
    "        \n",
    "        #获取Coockie 推荐资料：http://www.cnblogs.com/fnng/p/3269450.html\n",
    "        print(driver.current_url)\n",
    "        print(driver.get_cookies())  #获得cookie信息 dict存储\n",
    "        print(u'输出Cookie键值对信息:')\n",
    "        for cookie in driver.get_cookies(): \n",
    "            for key in cookie:\n",
    "                print(key, cookie[key])\n",
    "                    \n",
    "        #driver.get_cookies()类型list 仅包含一个元素cookie类型dict\n",
    "        print(u'登陆成功...')\n",
    "        \n",
    "        \n",
    "    except Exception as e:      \n",
    "        print(\"Error: \",e)\n",
    "    finally:    \n",
    "        print(u'End LoginWeibo!\\n\\n')"
   ]
  },
  {
   "cell_type": "code",
   "execution_count": 4,
   "metadata": {},
   "outputs": [],
   "source": [
    "# authentication details\n",
    "username = 'ruoyzhang@outlook.com'\n",
    "password = 'Cyfloel1.1.'"
   ]
  },
  {
   "cell_type": "code",
   "execution_count": 5,
   "metadata": {
    "scrolled": true
   },
   "outputs": [
    {
     "name": "stdout",
     "output_type": "stream",
     "text": [
      "准备登陆Weibo.cn网站...\n",
      "https://login.sina.com.cn/signup/signin.php\n",
      "[{'name': 'ULOGIN_IMG', 'value': 'gz-1e059d3c11850851644428148455df387c58', 'path': '/', 'domain': '.sina.com.cn', 'secure': False, 'httpOnly': False}, {'name': 'SCF', 'value': 'Auga9_M2_Im6XcAPxzDW64Pgmm3-RfTjOUOXAoI9565WpJN4YkISihtCkSVLRbKmIzspAnQ0OOjnE6KNe1Yot7s.', 'path': '/', 'domain': '.sina.com.cn', 'secure': False, 'httpOnly': True, 'expiry': 1871032654}, {'name': 'tgc', 'value': 'TGT-NzA3MTcwOTQwNw==-1555672654-gz-FA52215868751D22C38C23E54A9BE7A4-1', 'path': '/', 'domain': '.login.sina.com.cn', 'secure': False, 'httpOnly': True}, {'name': 'SUB', 'value': '_2A25xvd4eDeRhGeFO7FMW8CfIyzuIHXVSy0jWrDV_PUNbm9BeLWvgkW9NQUepNVsJHSuaL9eVwDD3e5e82J7JnwTc', 'path': '/', 'domain': '.sina.com.cn', 'secure': False, 'httpOnly': True}, {'name': 'SUBP', 'value': '0033WrSXqPxfM725Ws9jqgMF55529P9D9WFj.G74qcYWJ5RDpGXlI4xT5NHD95QNehMpS054Sh5NWs4DqcjZKGHLI-iadXiad7tt', 'path': '/', 'domain': '.sina.com.cn', 'secure': False, 'httpOnly': False}, {'name': 'ALC', 'value': 'ac%3D0%26bt%3D1555672654%26cv%3D5.0%26et%3D1587208654%26ic%3D1392454434%26login_time%3D1555672653%26scf%3D%26uid%3D7071709407%26vf%3D0%26vs%3D0%26vt%3D0%26es%3D0f113d1acefc56b0cf86707d4555d0e3', 'path': '/', 'domain': '.login.sina.com.cn', 'secure': False, 'httpOnly': True, 'expiry': 1587208654}, {'name': 'ALF', 'value': '1587208654', 'path': '/', 'domain': '.sina.com.cn', 'secure': False, 'httpOnly': False, 'expiry': 1587208654}, {'name': 'LT', 'value': '1555672654', 'path': '/', 'domain': '.login.sina.com.cn', 'secure': False, 'httpOnly': False}, {'name': 'sso_info', 'value': 'v02m6alo5qztYydlpWpkKa9r5Cmva-Jp5WpmYO0t4yDnLGNs4C5jYOAtw==', 'path': '/', 'domain': '.sina.com.cn', 'secure': False, 'httpOnly': False, 'expiry': 1587295054}, {'name': 'cREMloginname', 'value': 'ruoyzhang%40outlook.com', 'path': '/', 'domain': 'login.sina.com.cn', 'secure': False, 'httpOnly': False, 'expiry': 1555675246}]\n",
      "输出Cookie键值对信息:\n",
      "name ULOGIN_IMG\n",
      "value gz-1e059d3c11850851644428148455df387c58\n",
      "path /\n",
      "domain .sina.com.cn\n",
      "secure False\n",
      "httpOnly False\n",
      "name SCF\n",
      "value Auga9_M2_Im6XcAPxzDW64Pgmm3-RfTjOUOXAoI9565WpJN4YkISihtCkSVLRbKmIzspAnQ0OOjnE6KNe1Yot7s.\n",
      "path /\n",
      "domain .sina.com.cn\n",
      "secure False\n",
      "httpOnly True\n",
      "expiry 1871032654\n",
      "name tgc\n",
      "value TGT-NzA3MTcwOTQwNw==-1555672654-gz-FA52215868751D22C38C23E54A9BE7A4-1\n",
      "path /\n",
      "domain .login.sina.com.cn\n",
      "secure False\n",
      "httpOnly True\n",
      "name SUB\n",
      "value _2A25xvd4eDeRhGeFO7FMW8CfIyzuIHXVSy0jWrDV_PUNbm9BeLWvgkW9NQUepNVsJHSuaL9eVwDD3e5e82J7JnwTc\n",
      "path /\n",
      "domain .sina.com.cn\n",
      "secure False\n",
      "httpOnly True\n",
      "name SUBP\n",
      "value 0033WrSXqPxfM725Ws9jqgMF55529P9D9WFj.G74qcYWJ5RDpGXlI4xT5NHD95QNehMpS054Sh5NWs4DqcjZKGHLI-iadXiad7tt\n",
      "path /\n",
      "domain .sina.com.cn\n",
      "secure False\n",
      "httpOnly False\n",
      "name ALC\n",
      "value ac%3D0%26bt%3D1555672654%26cv%3D5.0%26et%3D1587208654%26ic%3D1392454434%26login_time%3D1555672653%26scf%3D%26uid%3D7071709407%26vf%3D0%26vs%3D0%26vt%3D0%26es%3D0f113d1acefc56b0cf86707d4555d0e3\n",
      "path /\n",
      "domain .login.sina.com.cn\n",
      "secure False\n",
      "httpOnly True\n",
      "expiry 1587208654\n",
      "name ALF\n",
      "value 1587208654\n",
      "path /\n",
      "domain .sina.com.cn\n",
      "secure False\n",
      "httpOnly False\n",
      "expiry 1587208654\n",
      "name LT\n",
      "value 1555672654\n",
      "path /\n",
      "domain .login.sina.com.cn\n",
      "secure False\n",
      "httpOnly False\n",
      "name sso_info\n",
      "value v02m6alo5qztYydlpWpkKa9r5Cmva-Jp5WpmYO0t4yDnLGNs4C5jYOAtw==\n",
      "path /\n",
      "domain .sina.com.cn\n",
      "secure False\n",
      "httpOnly False\n",
      "expiry 1587295054\n",
      "name cREMloginname\n",
      "value ruoyzhang%40outlook.com\n",
      "path /\n",
      "domain login.sina.com.cn\n",
      "secure False\n",
      "httpOnly False\n",
      "expiry 1555675246\n",
      "登陆成功...\n",
      "End LoginWeibo!\n",
      "\n",
      "\n"
     ]
    }
   ],
   "source": [
    "LoginWeibo(username, password)"
   ]
  },
  {
   "cell_type": "markdown",
   "metadata": {},
   "source": [
    "\n",
    "Now from here on let's try out how we can execute advanced search by using 's.weibo.com'"
   ]
  },
  {
   "cell_type": "code",
   "execution_count": 6,
   "metadata": {
    "collapsed": true
   },
   "outputs": [
    {
     "ename": "NoSuchElementException",
     "evalue": "Message: Unable to locate element: //a[@node-type='advsearch']\n",
     "output_type": "error",
     "traceback": [
      "\u001b[0;31m---------------------------------------------------------------------------\u001b[0m",
      "\u001b[0;31mNoSuchElementException\u001b[0m                    Traceback (most recent call last)",
      "\u001b[0;32m<ipython-input-6-585f85e3c3dc>\u001b[0m in \u001b[0;36m<module>\u001b[0;34m()\u001b[0m\n\u001b[1;32m     14\u001b[0m \u001b[0;34m\u001b[0m\u001b[0m\n\u001b[1;32m     15\u001b[0m \u001b[0;31m# now we try to instruct selenium to click on the 'advacned search' bottom\u001b[0m\u001b[0;34m\u001b[0m\u001b[0;34m\u001b[0m\u001b[0m\n\u001b[0;32m---> 16\u001b[0;31m \u001b[0mdriver\u001b[0m\u001b[0;34m.\u001b[0m\u001b[0mfind_element_by_xpath\u001b[0m\u001b[0;34m(\u001b[0m\u001b[0;34m\"//a[@node-type='advsearch']\"\u001b[0m\u001b[0;34m)\u001b[0m\u001b[0;34m.\u001b[0m\u001b[0mclick\u001b[0m\u001b[0;34m(\u001b[0m\u001b[0;34m)\u001b[0m\u001b[0;34m\u001b[0m\u001b[0m\n\u001b[0m",
      "\u001b[0;32m~/anaconda3/lib/python3.6/site-packages/selenium/webdriver/remote/webdriver.py\u001b[0m in \u001b[0;36mfind_element_by_xpath\u001b[0;34m(self, xpath)\u001b[0m\n\u001b[1;32m    392\u001b[0m             \u001b[0melement\u001b[0m \u001b[0;34m=\u001b[0m \u001b[0mdriver\u001b[0m\u001b[0;34m.\u001b[0m\u001b[0mfind_element_by_xpath\u001b[0m\u001b[0;34m(\u001b[0m\u001b[0;34m'//div/td[1]'\u001b[0m\u001b[0;34m)\u001b[0m\u001b[0;34m\u001b[0m\u001b[0m\n\u001b[1;32m    393\u001b[0m         \"\"\"\n\u001b[0;32m--> 394\u001b[0;31m         \u001b[0;32mreturn\u001b[0m \u001b[0mself\u001b[0m\u001b[0;34m.\u001b[0m\u001b[0mfind_element\u001b[0m\u001b[0;34m(\u001b[0m\u001b[0mby\u001b[0m\u001b[0;34m=\u001b[0m\u001b[0mBy\u001b[0m\u001b[0;34m.\u001b[0m\u001b[0mXPATH\u001b[0m\u001b[0;34m,\u001b[0m \u001b[0mvalue\u001b[0m\u001b[0;34m=\u001b[0m\u001b[0mxpath\u001b[0m\u001b[0;34m)\u001b[0m\u001b[0;34m\u001b[0m\u001b[0m\n\u001b[0m\u001b[1;32m    395\u001b[0m \u001b[0;34m\u001b[0m\u001b[0m\n\u001b[1;32m    396\u001b[0m     \u001b[0;32mdef\u001b[0m \u001b[0mfind_elements_by_xpath\u001b[0m\u001b[0;34m(\u001b[0m\u001b[0mself\u001b[0m\u001b[0;34m,\u001b[0m \u001b[0mxpath\u001b[0m\u001b[0;34m)\u001b[0m\u001b[0;34m:\u001b[0m\u001b[0;34m\u001b[0m\u001b[0m\n",
      "\u001b[0;32m~/anaconda3/lib/python3.6/site-packages/selenium/webdriver/remote/webdriver.py\u001b[0m in \u001b[0;36mfind_element\u001b[0;34m(self, by, value)\u001b[0m\n\u001b[1;32m    976\u001b[0m         return self.execute(Command.FIND_ELEMENT, {\n\u001b[1;32m    977\u001b[0m             \u001b[0;34m'using'\u001b[0m\u001b[0;34m:\u001b[0m \u001b[0mby\u001b[0m\u001b[0;34m,\u001b[0m\u001b[0;34m\u001b[0m\u001b[0m\n\u001b[0;32m--> 978\u001b[0;31m             'value': value})['value']\n\u001b[0m\u001b[1;32m    979\u001b[0m \u001b[0;34m\u001b[0m\u001b[0m\n\u001b[1;32m    980\u001b[0m     \u001b[0;32mdef\u001b[0m \u001b[0mfind_elements\u001b[0m\u001b[0;34m(\u001b[0m\u001b[0mself\u001b[0m\u001b[0;34m,\u001b[0m \u001b[0mby\u001b[0m\u001b[0;34m=\u001b[0m\u001b[0mBy\u001b[0m\u001b[0;34m.\u001b[0m\u001b[0mID\u001b[0m\u001b[0;34m,\u001b[0m \u001b[0mvalue\u001b[0m\u001b[0;34m=\u001b[0m\u001b[0;32mNone\u001b[0m\u001b[0;34m)\u001b[0m\u001b[0;34m:\u001b[0m\u001b[0;34m\u001b[0m\u001b[0m\n",
      "\u001b[0;32m~/anaconda3/lib/python3.6/site-packages/selenium/webdriver/remote/webdriver.py\u001b[0m in \u001b[0;36mexecute\u001b[0;34m(self, driver_command, params)\u001b[0m\n\u001b[1;32m    319\u001b[0m         \u001b[0mresponse\u001b[0m \u001b[0;34m=\u001b[0m \u001b[0mself\u001b[0m\u001b[0;34m.\u001b[0m\u001b[0mcommand_executor\u001b[0m\u001b[0;34m.\u001b[0m\u001b[0mexecute\u001b[0m\u001b[0;34m(\u001b[0m\u001b[0mdriver_command\u001b[0m\u001b[0;34m,\u001b[0m \u001b[0mparams\u001b[0m\u001b[0;34m)\u001b[0m\u001b[0;34m\u001b[0m\u001b[0m\n\u001b[1;32m    320\u001b[0m         \u001b[0;32mif\u001b[0m \u001b[0mresponse\u001b[0m\u001b[0;34m:\u001b[0m\u001b[0;34m\u001b[0m\u001b[0m\n\u001b[0;32m--> 321\u001b[0;31m             \u001b[0mself\u001b[0m\u001b[0;34m.\u001b[0m\u001b[0merror_handler\u001b[0m\u001b[0;34m.\u001b[0m\u001b[0mcheck_response\u001b[0m\u001b[0;34m(\u001b[0m\u001b[0mresponse\u001b[0m\u001b[0;34m)\u001b[0m\u001b[0;34m\u001b[0m\u001b[0m\n\u001b[0m\u001b[1;32m    322\u001b[0m             response['value'] = self._unwrap_value(\n\u001b[1;32m    323\u001b[0m                 response.get('value', None))\n",
      "\u001b[0;32m~/anaconda3/lib/python3.6/site-packages/selenium/webdriver/remote/errorhandler.py\u001b[0m in \u001b[0;36mcheck_response\u001b[0;34m(self, response)\u001b[0m\n\u001b[1;32m    240\u001b[0m                 \u001b[0malert_text\u001b[0m \u001b[0;34m=\u001b[0m \u001b[0mvalue\u001b[0m\u001b[0;34m[\u001b[0m\u001b[0;34m'alert'\u001b[0m\u001b[0;34m]\u001b[0m\u001b[0;34m.\u001b[0m\u001b[0mget\u001b[0m\u001b[0;34m(\u001b[0m\u001b[0;34m'text'\u001b[0m\u001b[0;34m)\u001b[0m\u001b[0;34m\u001b[0m\u001b[0m\n\u001b[1;32m    241\u001b[0m             \u001b[0;32mraise\u001b[0m \u001b[0mexception_class\u001b[0m\u001b[0;34m(\u001b[0m\u001b[0mmessage\u001b[0m\u001b[0;34m,\u001b[0m \u001b[0mscreen\u001b[0m\u001b[0;34m,\u001b[0m \u001b[0mstacktrace\u001b[0m\u001b[0;34m,\u001b[0m \u001b[0malert_text\u001b[0m\u001b[0;34m)\u001b[0m\u001b[0;34m\u001b[0m\u001b[0m\n\u001b[0;32m--> 242\u001b[0;31m         \u001b[0;32mraise\u001b[0m \u001b[0mexception_class\u001b[0m\u001b[0;34m(\u001b[0m\u001b[0mmessage\u001b[0m\u001b[0;34m,\u001b[0m \u001b[0mscreen\u001b[0m\u001b[0;34m,\u001b[0m \u001b[0mstacktrace\u001b[0m\u001b[0;34m)\u001b[0m\u001b[0;34m\u001b[0m\u001b[0m\n\u001b[0m\u001b[1;32m    243\u001b[0m \u001b[0;34m\u001b[0m\u001b[0m\n\u001b[1;32m    244\u001b[0m     \u001b[0;32mdef\u001b[0m \u001b[0m_value_or_default\u001b[0m\u001b[0;34m(\u001b[0m\u001b[0mself\u001b[0m\u001b[0;34m,\u001b[0m \u001b[0mobj\u001b[0m\u001b[0;34m,\u001b[0m \u001b[0mkey\u001b[0m\u001b[0;34m,\u001b[0m \u001b[0mdefault\u001b[0m\u001b[0;34m)\u001b[0m\u001b[0;34m:\u001b[0m\u001b[0;34m\u001b[0m\u001b[0m\n",
      "\u001b[0;31mNoSuchElementException\u001b[0m: Message: Unable to locate element: //a[@node-type='advsearch']\n"
     ]
    }
   ],
   "source": [
    "# navigate to the search interface\n",
    "driver.get(\"http://s.weibo.com/\")\n",
    "\n",
    "# set search key value\n",
    "key = '人工智能'\n",
    "\n",
    "# input the search key and hit enter in order to advance to the advanced search interface\n",
    "item_inp = driver.find_element_by_xpath(\"//input[@type='text']\")\n",
    "item_inp.send_keys(key)\n",
    "item_inp.send_keys(Keys.RETURN)\n",
    "\n",
    "#wait\n",
    "time.sleep(8)\n",
    "\n",
    "# now we try to instruct selenium to click on the 'advacned search' bottom\n",
    "driver.find_element_by_xpath(\"//a[@node-type='advsearch']\").click()"
   ]
  },
  {
   "cell_type": "code",
   "execution_count": 8,
   "metadata": {},
   "outputs": [],
   "source": [
    "driver.get('https://s.weibo.com')"
   ]
  },
  {
   "cell_type": "code",
   "execution_count": 9,
   "metadata": {},
   "outputs": [],
   "source": [
    "# set search key value\n",
    "key = '人工智能'\n",
    "\n",
    "# input the search key and hit enter in order to advance to the advanced search interface\n",
    "item_inp = driver.find_element_by_xpath(\"//input[@type='text']\")\n",
    "item_inp.send_keys(key)\n",
    "item_inp.send_keys(Keys.RETURN)"
   ]
  },
  {
   "cell_type": "markdown",
   "metadata": {},
   "source": [
    "now we try to enter the specific search values, we take the below example\n",
    "\n",
    "\n",
    "key: 人工智能\n",
    "\n",
    "time: 01/04/2019 - 07/04/2019"
   ]
  },
  {
   "cell_type": "code",
   "execution_count": 85,
   "metadata": {},
   "outputs": [],
   "source": [
    "begin_date = '2018-12-30'\n",
    "begin_year = str(int(begin_date.split('-')[0]))\n",
    "begin_month = str(int(begin_date.split('-')[1])-1)\n",
    "begin_day = str(int(begin_date.split('-')[2]))\n",
    "\n",
    "\n",
    "end_date = '2019-1-1'\n",
    "end_year = str(int(end_date.split('-')[0]))\n",
    "end_month = str(int(end_date.split('-')[1])-1)\n",
    "end_day = str(int(end_date.split('-')[2]))"
   ]
  },
  {
   "cell_type": "code",
   "execution_count": 86,
   "metadata": {},
   "outputs": [],
   "source": [
    "# below for instructing selenium to click on the 'time' input field\n",
    "driver.find_element_by_xpath(\"//dd/input[@value='请选择日期'][1]\").click()"
   ]
  },
  {
   "cell_type": "code",
   "execution_count": 87,
   "metadata": {},
   "outputs": [],
   "source": [
    "# below for instructing selenium to select the right **YEAR** value\n",
    "driver.find_element_by_xpath(\"//div[@class='selector']/select[@class='year']\").click()\n",
    "driver.find_element_by_xpath(\"//div[@class='selector']/select[@class='year']/option[@value={}]\".format(begin_year)).click()"
   ]
  },
  {
   "cell_type": "code",
   "execution_count": 88,
   "metadata": {},
   "outputs": [],
   "source": [
    "# below for instructing selenium to select the right **MONTH** value\n",
    "driver.find_element_by_xpath(\"//div[@class='selector']/select[@class='month']\").click()\n",
    "driver.find_element_by_xpath(\"//div[@class='selector']/select[@class='month']/option[@value={}]\".format(begin_month)).click()"
   ]
  },
  {
   "cell_type": "code",
   "execution_count": 89,
   "metadata": {},
   "outputs": [],
   "source": [
    "# below for instructing selenium to select the right **DAY** value\n",
    "driver.find_element_by_xpath(\"//ul[@class='days']/li/a[@title='{}']\".format(begin_date)).click()"
   ]
  },
  {
   "cell_type": "markdown",
   "metadata": {},
   "source": [
    "Begin date input was successful, now let's replicate the strategy for end date"
   ]
  },
  {
   "cell_type": "code",
   "execution_count": 90,
   "metadata": {},
   "outputs": [],
   "source": [
    "driver.find_element_by_xpath(\"//dd/input[@value='请选择日期'][2]\").click()"
   ]
  },
  {
   "cell_type": "code",
   "execution_count": 91,
   "metadata": {},
   "outputs": [],
   "source": [
    "driver.find_element_by_xpath(\"//div[@class='selector']/select[@class='year']\").click()\n",
    "driver.find_element_by_xpath(\"//div[@class='selector']/select[@class='year']/option[@value={}]\".format(end_year)).click()"
   ]
  },
  {
   "cell_type": "code",
   "execution_count": 92,
   "metadata": {},
   "outputs": [],
   "source": [
    "driver.find_element_by_xpath(\"//div[@class='selector']/select[@class='month']\").click()\n",
    "driver.find_element_by_xpath(\"//div[@class='selector']/select[@class='month']/option[@value={}]\".format(end_month)).click()"
   ]
  },
  {
   "cell_type": "code",
   "execution_count": 93,
   "metadata": {},
   "outputs": [],
   "source": [
    "driver.find_element_by_xpath(\"//ul[@class='days']/li/a[@title='{}']\".format(end_date)).click()"
   ]
  },
  {
   "cell_type": "code",
   "execution_count": 94,
   "metadata": {},
   "outputs": [],
   "source": [
    "# click on the 'search' button\n",
    "driver.find_element_by_xpath(\"//div[@class='m-adv-search']/div[@class='btn-box']/a[@class='s-btn-a']\").click()"
   ]
  },
  {
   "cell_type": "markdown",
   "metadata": {},
   "source": [
    "## Now we move onto the actual scrapping part"
   ]
  },
  {
   "cell_type": "code",
   "execution_count": 95,
   "metadata": {},
   "outputs": [],
   "source": [
    "tweets = driver.find_elements_by_xpath(\"/html/body/div/div/div/div/div/div/div/div/div/p[@class='txt' and @node-type='feed_list_content']\")"
   ]
  },
  {
   "cell_type": "code",
   "execution_count": 96,
   "metadata": {
    "collapsed": true
   },
   "outputs": [
    {
     "name": "stdout",
     "output_type": "stream",
     "text": [
      "****** 0 ******\n",
      "冷的我想给鼠标加热，冷的我在床上想剪视频都不太可能太冷了。\n",
      "但是又珍惜雪的出现比较太热就是宣判我死刑。虽然我喜欢沙滩夏日，可是这里没有沙滩就不需要夏日了吧。\n",
      "北极熊是自然的超级宠儿明明拥有最完美的冰雪世界，鲸也是在最深的海底与枪乌贼的世界大战。\n",
      "都是属于完美主义，可是都被全球变暖破 展开全文c\n",
      " \n",
      "----------------------------\n",
      " \n",
      "****** 1 ******\n",
      "国中创投首席合伙人、CEO 施安平\n",
      "2019年，国中创投将会继续坚持“价值投资”的理念。\n",
      "明年，随着科创板的推出，中国创投行业将会迎来一个新的历史机遇。届时，可能会有大量资金涌入创投行业，这有利于解决“募资难”。我们要抓住这个机会，为被投企业走向科创板做好服务。\n",
      "2019年，我看好的方向：人工 展开全文c\n",
      " \n",
      "----------------------------\n",
      " \n",
      "****** 2 ******\n",
      "君联资本董事总经理、总裁 陈浩\n",
      "2019年，在投资节奏上，君联资本将从谨慎、稳健走向更积极。对于投资阶段，我们的理想状态是早期和中后期平衡，各占50%。在退出上，借助不同资本市场的周期性，退出工作常态化。\n",
      "接下来，君联资本将重点关注三个方向：\n",
      "第一、新材料新工艺带动下的先进制造业；\n",
      "第二、大 展开全文c\n",
      " \n",
      "----------------------------\n",
      " \n",
      "****** 3 ******\n",
      "#天天兔兔65#　　谭天启援引实例，教育他：“马上年末了，投资总监压力最大，他们都在等排名、等净值。我刚投了人工智能医疗板块，就是你最不看好的那几家公司。公司经营得好，股票收益不一定好，公司一滩烂泥，股票收益不一定差。你总把这两个概念弄混，自视甚高，听不进劝。你坐这位置，还不如 展开全文c\n",
      " \n",
      "----------------------------\n",
      " \n",
      "****** 4 ******\n",
      "AI+IoT”是未来的风口，也是小米核心战略之一。今天，人类进入了人工智能新时代，无论走到哪里，哪个会议都在讨论人工智能，人工智能时代远远超过以前我们提的大数据时代和移动互联网时代。\n",
      "在这个时代面前，不仅仅是巨头，在十多个领域里面1000多家的创业公司风起云涌，越来越多的实用性产品开始产生 展开全文c\n",
      " \n",
      "----------------------------\n",
      " \n",
      "****** 5 ******\n",
      "AI+IoT”是未来的风口，也是小米核心战略之一。今天，人类进入了人工智能新时代，无论走到哪里，哪个会议都在讨论人工智能，人工智能时代远远超过以前我们提的大数据时代和移动互联网时代。\n",
      "在这个时代面前，不仅仅是巨头，在十多个领域里面1000多家的创业公司风起云涌，越来越多的实用性产品开始产生 展开全文c\n",
      " \n",
      "----------------------------\n",
      " \n",
      "****** 6 ******\n",
      "预计2019年市场是结构性发散行情——2018年A股处于熊市，股市每个阶段，都对应不同的策略。一年前的今天，市场还沉浸在2017年是价值投资的胜利年。其实那时候价值投资只是机构在少数蓝筹股抱团取暖，2018年市场经历了系统性调整，回顾一下A股的走势，发现又是熊冠全球。在2018年前大部分机构对于市场整 展开全文c\n",
      " \n",
      "----------------------------\n",
      " \n",
      "****** 7 ******\n",
      "朋友！你天天玩手机,你知道云钱包吗？知道时间银行吗？知道登记合约吗？\n",
      "你想与世界500强企业携手合作吗？想拥有一个超越阿里的平台股权吗？\n",
      " \n",
      "㊙️ 1：云钱包-----时间银行：\n",
      "时间银行：不用投一分钱，打造全民控股的公共网络，全民做股东，只要你认真分享邀请10个人免费注册云钱包并给你投票，你就成 展开全文c\n",
      " \n",
      "----------------------------\n",
      " \n",
      "****** 8 ******\n",
      "@中国乡村之声 @中国农业新闻网 @共青团中央 @农学谷 @三农优选 @农人李攀 @上海三农服务热线 @农优一百李恩伟 乡村振兴\n",
      "2019年会怎么样呢？体制和社会变革、乡村振兴、人工智能、科技创新等等太多信号向我们涌来，一下子我们不知道该如何去选择？信号太多打杂，造成了我们内心的焦虑，恐慌。 展开全文c\n",
      " \n",
      "----------------------------\n",
      " \n",
      "****** 9 ******\n",
      "今天,给小伙伴们推荐的是《今日简史》\n",
      "\n",
      "尤瓦尔·赫拉利的《人类简史》横空出世，颠覆了我们关于人类进化的认知。2016年，他的《未来简史》再度惊艳四座，刷新了我们对未来的想象，掀起了全球关于人工智能讨论的新思潮。现在，“简史三部曲”收官之作《今日简史》推出，将目光聚焦到当下，直面今 展开全文c\n",
      " \n",
      "----------------------------\n",
      " \n",
      "****** 10 ******\n",
      "戚薇 恭喜戚哥荣获#国剧盛典#「年度飞跃演员奖」👏2018的@戚薇 饰演《北京女子图鉴》中的“启示性”角色陈可，将女性奋斗过程中的酸甜苦辣演绎得淋漓尽致；如愿接演“非人类”角色姜离，将带领观众感受AI人工智能的奇妙之处。一边不忘初心，践行“好好做人、好好演戏、好好唱歌”，一边挑战 展开全文c\n",
      " \n",
      "----------------------------\n",
      " \n",
      "****** 11 ******\n",
      "先用“庆幸”两个字形容一下，2018年已经成为过去式，全年各大指数跌幅均为两位数，上证指数下跌24.59%，还是队伍中跌幅最小的。\n",
      "\n",
      "但在去年年初，市场却完全是另一番景象，上证指数拉出一波主升浪，趋势创出股灾3.0后的新高，直接兵临3600点城下，市场看多者一片，期盼2018年是慢牛的一年。\n",
      "\n",
      "福兮祸之 展开全文c\n",
      " \n",
      "----------------------------\n",
      " \n",
      "****** 12 ******\n",
      "贾跃亭与恒大和解细节曝光：可5年内回购FF股权\n",
      "\n",
      "备受关注的FF纠纷今日正式终结。恒大健康(0708.HK)于12月31日发布公告，与贾跃亭控制的FF达成重组协议。\n",
      "\n",
      "据协议，恒大持有32%的FF优先股权，并100%持有FF香港。同时，双方所有原协议将终止，恒大无需再向FF注入资金，并同意解除现存的质押。\n",
      "\n",
      "此外，双 展开全文c\n",
      " \n",
      "----------------------------\n",
      " \n",
      "****** 13 ******\n",
      "明天又将迎来2019年首个交易日了。事实上，从2018年11月末起，存量资金已经在酝酿新的运作模式，代表就是东方通信和跟随的东信和平，打出的游资主导的中线波段模式，明天关注下汇源通信。而延续多年的连扳妖股模式，仍将继续并围绕次新与科技类（5G，芯片，物联网，人工智能）概念叠加持续运作，明天关 展开全文c\n",
      " \n",
      "----------------------------\n",
      " \n",
      "****** 14 ******\n",
      "订阅模式终身学习的MBA服务，它带来的一大改变是它不再卖给你一个学位。相反，它提供给你的是两样东西，首先是一个终身学习的保障。第二点更重要，是为你量身定制不断适应环境变化的终身学习的方案。\n",
      "\n",
      "订阅经济很古老，报纸和杂志就是最早的订阅经济。进入数字经济时代，订阅经济将焕发出新的活力，因 展开全文c\n",
      " \n",
      "----------------------------\n",
      " \n",
      "****** 15 ******\n",
      "IT朋友们大家好，我是一名非计算机专业、只有作为一个90应有的计算机知识的学生，我想从事it行业，可培训机构太多，我不知如何选择，我也不知道it行业适不适合我，但我内心一直有这个冲动想去一窥风景。以下是我的详细情况。\n",
      "\n",
      "我是19年应届毕业生，就读于一所二本大学飞行器制造工程专业，学 展开全文c\n",
      " \n",
      "----------------------------\n",
      " \n",
      "****** 16 ******\n",
      "【李彦宏：未来20年人们对手机依赖程度会越来越低！网友：吓得我赶紧玩了一下手机】1月1日，在央视2019元旦晚会上，李彦宏谈到对未来人工智能发展的看法时表示：未来20年人们对手机依赖程度将会越来越低，人工智能将会逐渐替代手机满足人们的需求。“很多情况下，人们不需要带手机就能获得跟手机 展开全文c\n",
      " \n",
      "----------------------------\n",
      " \n",
      "****** 17 ******\n",
      "《百岁人生》总结\n",
      "作者给我们提出的六大预言，简单总结一下。\n",
      "第一个，作者认为人类的寿命正在飞速递增，每个人都有可能活到一百岁，或者至少将近一百岁，我们这辈子将会迎来一个非常漫长的人生。\n",
      "第二个，传统的三段式人生必将消亡，多段式人生即将登场，我们要充分做好思想准备，调整心态，适应更多 展开全文c\n",
      " \n",
      "----------------------------\n",
      " \n",
      "****** 18 ******\n",
      "【李彦宏：未来20年人们对手机依赖程度会越来越低！网友：吓得我赶紧玩了一下手机】1月1日，在央视2019元旦晚会上，李彦宏谈到对未来人工智能发展的看法时表示：未来20年人们对手机依赖程度将会越来越低，人工智能将会逐渐替代手机满足人们的需求。“很多情况下，人们不需要带手机就能获得跟手机 展开全文c\n",
      " \n",
      "----------------------------\n",
      " \n",
      "****** 19 ******\n",
      "1⃣️2018-2019在外跨年成功✔️\n",
      "2⃣️顺利地见了双方父母✔️\n",
      "\n",
      "现在的我是牛猪东的人工智能停车指挥员，希望2019年许同学可以把停车练得溜溜的，开车技术可以再高升一些。\n",
      "\n",
      "2019年要继续延续2018年的甜蜜，不再发生2018年发生过的糟糕，继续减肥，继续学习，继续努力，继续保持一颗可爱的心！❣️\n",
      "\n",
      "小 展开全文c\n",
      " \n",
      "----------------------------\n",
      " \n"
     ]
    }
   ],
   "source": [
    "for i, tweet in enumerate(tweets):\n",
    "    print('******',str(i),'******')\n",
    "    print(tweet.text)\n",
    "    print(' ')\n",
    "    print('----------------------------')\n",
    "    print(' ')"
   ]
  },
  {
   "cell_type": "code",
   "execution_count": 97,
   "metadata": {},
   "outputs": [
    {
     "data": {
      "text/plain": [
       "20"
      ]
     },
     "execution_count": 97,
     "metadata": {},
     "output_type": "execute_result"
    }
   ],
   "source": [
    "len(tweets)"
   ]
  },
  {
   "cell_type": "markdown",
   "metadata": {},
   "source": [
    "So we have 20 tweets per page, and we have 50 pages of displayed results, this means a total of: **1000** tweets per search.\n",
    "\n",
    "HOWEVER, we notice a bunch of duplicated contents, no real added value, we consider doing the following:\n",
    "\n",
    "* Deduplication per page??  --> based on observation, this will not be very effective since we observe duplicated content across the pages\n",
    "* Deduplication per week --> this will definitely be more effective, however it requires me to run similarity calculations again:\n",
    "    1. strategy 1: cosine similarity with a computation complexity of n^2/2\n",
    "    2. stragey 2: Local sensitive hashing and min hash, need to brush up on the implementation I don't have the old code"
   ]
  },
  {
   "cell_type": "markdown",
   "metadata": {},
   "source": [
    "#### let's test out stategy 1 and see how much time it would take per week"
   ]
  },
  {
   "cell_type": "markdown",
   "metadata": {},
   "source": [
    "First of all, let's scrape off the content and store for a small sample (1000 tweets)"
   ]
  },
  {
   "cell_type": "markdown",
   "metadata": {},
   "source": [
    "extracting dates and other relevant information / fields"
   ]
  },
  {
   "cell_type": "code",
   "execution_count": 154,
   "metadata": {},
   "outputs": [],
   "source": [
    "# the below extracts date\n",
    "item_tweet_dates = driver.find_elements_by_xpath(\"/html/body/div/div/div/div/div/div/div/div/div/p[@class='from']\")"
   ]
  },
  {
   "cell_type": "code",
   "execution_count": 155,
   "metadata": {},
   "outputs": [],
   "source": [
    "# trying to convert string to datetime format\n",
    "# first, replace the chinese characters\n",
    "item_tweet_dates = [date.text.split(' ')[0].replace('年', ' ').replace('月', ' ').replace('日', '') for date in item_tweet_dates]"
   ]
  },
  {
   "cell_type": "code",
   "execution_count": 156,
   "metadata": {},
   "outputs": [],
   "source": [
    "# then add year if necessary\n",
    "item_tweet_dates = ['2019 ' + date if len(date) == 5 else date for date in item_tweet_dates]"
   ]
  },
  {
   "cell_type": "code",
   "execution_count": 157,
   "metadata": {
    "scrolled": true
   },
   "outputs": [
    {
     "data": {
      "text/plain": [
       "['2019 01 01',\n",
       " '2019 01 01',\n",
       " '2019 01 01',\n",
       " '2019 01 01',\n",
       " '2019 01 01',\n",
       " '2019 01 01',\n",
       " '2019 01 01',\n",
       " '2019 01 01',\n",
       " '2019 01 01',\n",
       " '2019 01 01',\n",
       " '2018 12 31',\n",
       " '2018 12 31',\n",
       " '2018 12 31',\n",
       " '2018 12 31',\n",
       " '2018 12 31',\n",
       " '2018 12 31',\n",
       " '2018 12 31',\n",
       " '2018 12 31',\n",
       " '2018 12 31',\n",
       " '2018 12 31']"
      ]
     },
     "execution_count": 157,
     "metadata": {},
     "output_type": "execute_result"
    }
   ],
   "source": [
    "item_tweet_dates"
   ]
  },
  {
   "cell_type": "code",
   "execution_count": 158,
   "metadata": {},
   "outputs": [],
   "source": [
    "# then we convert it to datetime format\n",
    "item_tweet_dates = [datetime.strptime(date, '%Y %m %d') for date in item_tweet_dates]"
   ]
  },
  {
   "cell_type": "code",
   "execution_count": 143,
   "metadata": {},
   "outputs": [
    {
     "data": {
      "text/plain": [
       "20"
      ]
     },
     "execution_count": 143,
     "metadata": {},
     "output_type": "execute_result"
    }
   ],
   "source": [
    "len(item_tweet_dates)"
   ]
  },
  {
   "cell_type": "markdown",
   "metadata": {},
   "source": [
    "turning the page"
   ]
  },
  {
   "cell_type": "code",
   "execution_count": 176,
   "metadata": {},
   "outputs": [],
   "source": [
    "driver.find_element_by_xpath(\"/html/body/div/div/div/div/div/div/a[@class='next']\").click()"
   ]
  },
  {
   "cell_type": "markdown",
   "metadata": {},
   "source": [
    "YUS"
   ]
  },
  {
   "cell_type": "markdown",
   "metadata": {},
   "source": [
    "Determining the max number of page (just in case)"
   ]
  },
  {
   "cell_type": "code",
   "execution_count": 171,
   "metadata": {},
   "outputs": [],
   "source": [
    "dropdown_page = driver.find_elements_by_xpath(\"/html/body/div/div/div/div/div/div/span/ul[@node-type='feed_list_page_morelist']/li\")"
   ]
  },
  {
   "cell_type": "code",
   "execution_count": 173,
   "metadata": {},
   "outputs": [
    {
     "data": {
      "text/plain": [
       "50"
      ]
     },
     "execution_count": 173,
     "metadata": {},
     "output_type": "execute_result"
    }
   ],
   "source": [
    "len(dropdown_page)"
   ]
  },
  {
   "cell_type": "code",
   "execution_count": 175,
   "metadata": {},
   "outputs": [
    {
     "data": {
      "text/plain": [
       "[4, 5, 8, 1, 2, 5, 6, 6]"
      ]
     },
     "execution_count": 175,
     "metadata": {},
     "output_type": "execute_result"
    }
   ],
   "source": [
    "[4,5,8] + [1,2,5,6,6]"
   ]
  },
  {
   "cell_type": "code",
   "execution_count": 178,
   "metadata": {},
   "outputs": [
    {
     "data": {
      "text/plain": [
       "'.../Documents/PythonWorkingDirectory'"
      ]
     },
     "execution_count": 178,
     "metadata": {},
     "output_type": "execute_result"
    }
   ],
   "source": [
    "path0 = '.../Documents/'\n",
    "path1 = 'PythonWorkingDirectory'\n",
    "os.path.join(path0, path1)"
   ]
  },
  {
   "cell_type": "markdown",
   "metadata": {},
   "source": [
    "Prototyping complete:\n",
    "\n",
    "***weibo_scrapper.py***\n",
    "\n",
    "we'll open another notebook for testing"
   ]
  },
  {
   "cell_type": "markdown",
   "metadata": {},
   "source": [
    "### We ran into an unknown problem with the login method\n",
    "\n",
    "We now proceed to create a new login method"
   ]
  },
  {
   "cell_type": "code",
   "execution_count": 53,
   "metadata": {},
   "outputs": [],
   "source": [
    "# gavigate to the appropriate page\n",
    "driver.get(\"https://www.weibo.com/login.php\")\n",
    "\n",
    "time.sleep(5)\n",
    "\n",
    "# click on the login button\n",
    "driver.find_element_by_xpath(\"/html/body/div/div/div/div/div/div/div/div/ul/li/a[@node-type='loginBtn']\").send_keys(Keys.RETURN)\n",
    "\n",
    "time.sleep(3)"
   ]
  },
  {
   "cell_type": "code",
   "execution_count": 54,
   "metadata": {},
   "outputs": [],
   "source": [
    "# inputting username\n",
    "elem_user = driver.find_element_by_xpath(\"/html/body/div/div/div/div/div/input[@node-type='username']\")\n",
    "elem_user.clear()\n",
    "elem_user.send_keys(username)"
   ]
  },
  {
   "cell_type": "code",
   "execution_count": 55,
   "metadata": {},
   "outputs": [],
   "source": [
    "# inputting password\n",
    "elem_pwd = driver.find_element_by_xpath(\"/html/body/div[4]/div[2]/div[3]/div[3]/div[2]/input\")\n",
    "elem_pwd.clear()\n",
    "elem_pwd.send_keys(password)"
   ]
  },
  {
   "cell_type": "code",
   "execution_count": 57,
   "metadata": {},
   "outputs": [],
   "source": [
    "# click on the login button\n",
    "driver.find_element_by_xpath(\"/html/body/div/div/div/div/div/a[@node-type='submitBtn']\").click()"
   ]
  },
  {
   "cell_type": "markdown",
   "metadata": {},
   "source": [
    "### In order for the scraper to be less fault prone, we want to modularise all the functions and add exception/error handlers everywhere to prevent it from stopping every few minutes"
   ]
  },
  {
   "cell_type": "code",
   "execution_count": 7,
   "metadata": {},
   "outputs": [],
   "source": [
    "# all the potential dependencies we'll need for handling page loading issues\n",
    "from selenium import webdriver\n",
    "from selenium.webdriver.support.ui import WebDriverWait\n",
    "from selenium.webdriver.support import expected_conditions as EC\n",
    "from selenium.webdriver.common.by import By\n",
    "from selenium.common.exceptions import TimeoutException"
   ]
  },
  {
   "cell_type": "code",
   "execution_count": 61,
   "metadata": {},
   "outputs": [],
   "source": [
    "from weibo_scrapper import weibo_scrapper\n",
    "\n",
    "# we first aim to fix the login function cos that shit does not work very well"
   ]
  },
  {
   "cell_type": "code",
   "execution_count": 68,
   "metadata": {},
   "outputs": [],
   "source": [
    "test_scraper = weibo_scrapper(username, password, save_dir = '../master_thesis_data/weibo')"
   ]
  },
  {
   "cell_type": "code",
   "execution_count": 69,
   "metadata": {},
   "outputs": [],
   "source": [
    "test_scraper.driver.get('https://www.weibo.com/login.php')\n",
    "#change window size so that the login button can be scrolled into view\n",
    "test_scraper.driver.set_window_size(1080,1080)"
   ]
  },
  {
   "cell_type": "code",
   "execution_count": 70,
   "metadata": {},
   "outputs": [],
   "source": [
    "# input username\n",
    "test_scraper.driver.find_element_by_xpath(\"//*[@id='loginname']\").send_keys(username)"
   ]
  },
  {
   "cell_type": "code",
   "execution_count": 71,
   "metadata": {},
   "outputs": [],
   "source": [
    "# input password\n",
    "test_scraper.driver.find_element_by_xpath(\"//input[@type='password']\").send_keys(password)"
   ]
  },
  {
   "cell_type": "code",
   "execution_count": 72,
   "metadata": {},
   "outputs": [],
   "source": [
    "# click on button\n",
    "test_scraper.driver.find_element_by_xpath(\"//a[@node-type='submitBtn']\").click()"
   ]
  },
  {
   "cell_type": "code",
   "execution_count": 73,
   "metadata": {},
   "outputs": [
    {
     "name": "stdout",
     "output_type": "stream",
     "text": [
      "login successful\n"
     ]
    }
   ],
   "source": [
    "# this is the dynamic waiting scheme for the login step\n",
    "delay = 20\n",
    "try:\n",
    "    WebDriverWait(test_scraper.driver, delay).until(\n",
    "        EC.presence_of_element_located((By.XPATH, \"//a[@node-type='account']\")))\n",
    "    print('login successful')\n",
    "except TimeoutException:\n",
    "    print('login not yet successful after 20s, now executing an implicit 10s wait')\n",
    "    test_scraper.driver.implicitly_wait(10)"
   ]
  },
  {
   "cell_type": "markdown",
   "metadata": {},
   "source": [
    "The above modification should resolve one of the long standing issues that plagued the scraping process, the login failure rates have been really really high"
   ]
  },
  {
   "cell_type": "markdown",
   "metadata": {},
   "source": [
    "In the section below, let's modularise the scrapping process, we construct the following class methods:\n",
    "1. get to adv search page\n",
    "2. input search criterions\n",
    "3. scrape this particular page [with built in handler to detect whether the desired elements have loaded]\n",
    "4. go to next page [with built in handler to detect whether we can go to the next page or not to avoid error]"
   ]
  },
  {
   "cell_type": "code",
   "execution_count": 76,
   "metadata": {},
   "outputs": [
    {
     "name": "stdout",
     "output_type": "stream",
     "text": [
      "navigating to Weibo search page\n",
      "inputing random search term to be redirected to the adv search page\n"
     ]
    }
   ],
   "source": [
    "# this is for redirecting to the adv search page\n",
    "\n",
    "print('navigating to Weibo search page')\n",
    "test_scraper.driver.get(\"http://s.weibo.com/\")\n",
    "\n",
    "# input the search key and hit enter in order to advance to the advanced search interface\n",
    "print('inputing random search term to be redirected to the adv search page')\n",
    "item_inp = test_scraper.driver.find_element_by_xpath(\"//input[@type='text']\")\n",
    "item_inp.send_keys('search_keyword')\n",
    "item_inp.send_keys(Keys.RETURN)"
   ]
  },
  {
   "cell_type": "code",
   "execution_count": 36,
   "metadata": {},
   "outputs": [
    {
     "name": "stdout",
     "output_type": "stream",
     "text": [
      "yuss\n"
     ]
    }
   ],
   "source": [
    "# we test out the waiting until a certain element we need is fully loaded\n",
    "\n",
    "delay = 10\n",
    "try:\n",
    "    WebDriverWait(test_scraper.driver, delay).until(\n",
    "        EC.presence_of_element_located((By.XPATH, \"//a[@node-type='advsearch']\")))\n",
    "    print('login successful')\n",
    "except TimeoutException:\n",
    "    print('login not yet successful after 10s, now executing an implicit 10s wait')\n",
    "    test_scraper.driver.implicitly_wait(10)"
   ]
  },
  {
   "cell_type": "code",
   "execution_count": null,
   "metadata": {},
   "outputs": [],
   "source": []
  },
  {
   "cell_type": "code",
   "execution_count": null,
   "metadata": {},
   "outputs": [],
   "source": []
  },
  {
   "cell_type": "code",
   "execution_count": null,
   "metadata": {},
   "outputs": [],
   "source": []
  },
  {
   "cell_type": "code",
   "execution_count": null,
   "metadata": {},
   "outputs": [],
   "source": []
  },
  {
   "cell_type": "code",
   "execution_count": null,
   "metadata": {},
   "outputs": [],
   "source": []
  },
  {
   "cell_type": "code",
   "execution_count": null,
   "metadata": {},
   "outputs": [],
   "source": []
  }
 ],
 "metadata": {
  "kernelspec": {
   "display_name": "Python 3",
   "language": "python",
   "name": "python3"
  },
  "language_info": {
   "codemirror_mode": {
    "name": "ipython",
    "version": 3
   },
   "file_extension": ".py",
   "mimetype": "text/x-python",
   "name": "python",
   "nbconvert_exporter": "python",
   "pygments_lexer": "ipython3",
   "version": "3.6.4"
  }
 },
 "nbformat": 4,
 "nbformat_minor": 2
}
