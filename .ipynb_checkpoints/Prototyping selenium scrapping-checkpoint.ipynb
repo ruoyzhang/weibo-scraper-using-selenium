{
 "cells": [
  {
   "cell_type": "markdown",
   "metadata": {},
   "source": [
    "All the dependencies"
   ]
  },
  {
   "cell_type": "code",
   "execution_count": 98,
   "metadata": {},
   "outputs": [],
   "source": [
    "import time            \n",
    "import re            \n",
    "import os    \n",
    "import sys  \n",
    "import codecs  \n",
    "import shutil\n",
    "import urllib \n",
    "from selenium import webdriver        \n",
    "from selenium.webdriver.common.keys import Keys        \n",
    "import selenium.webdriver.support.ui as ui        \n",
    "from selenium.webdriver.common.action_chains import ActionChains"
   ]
  },
  {
   "cell_type": "code",
   "execution_count": 99,
   "metadata": {},
   "outputs": [],
   "source": [
    "# defining driver for the operation, we use the firefox browser with geckodriver installed\n",
    "driver = webdriver.Firefox()\n",
    "# not sure why we need to wait explicitly for 10 seconds here though\n",
    "wait = ui.WebDriverWait(driver,10)"
   ]
  },
  {
   "cell_type": "code",
   "execution_count": 100,
   "metadata": {},
   "outputs": [],
   "source": [
    "def LoginWeibo(username, password):\n",
    "    try:\n",
    "        #输入用户名/密码登录\n",
    "        print(u'准备登陆Weibo.cn网站...')\n",
    "        driver.get(\"http://login.sina.com.cn/\")\n",
    "        elem_user = driver.find_element_by_name(\"username\")\n",
    "        elem_user.send_keys(username) #用户名\n",
    "        elem_pwd = driver.find_element_by_name(\"password\")\n",
    "        elem_pwd.send_keys(password)  #密码\n",
    "        #elem_rem = driver.find_element_by_name(\"safe_login\")\n",
    "        #elem_rem.click()             #安全登录\n",
    " \n",
    "        #重点: 暂停时间输入验证码(http://login.weibo.cn/login/ 手机端需要)\n",
    "        time.sleep(20)\n",
    "        \n",
    "        #elem_sub = driver.find_element_by_xpath(\"//input[@class='smb_btn']\")\n",
    "        #elem_sub.click()              #点击登陆 因无name属性\n",
    "        #如果登陆按钮采用动态加载 则采用输入回车键登陆微博\n",
    "        elem_pwd.send_keys(Keys.RETURN)\n",
    "        time.sleep(2)\n",
    "        \n",
    "        #获取Coockie 推荐资料：http://www.cnblogs.com/fnng/p/3269450.html\n",
    "        print(driver.current_url)\n",
    "        print(driver.get_cookies())  #获得cookie信息 dict存储\n",
    "        print(u'输出Cookie键值对信息:')\n",
    "        for cookie in driver.get_cookies(): \n",
    "            for key in cookie:\n",
    "                print(key, cookie[key])\n",
    "                    \n",
    "        #driver.get_cookies()类型list 仅包含一个元素cookie类型dict\n",
    "        print(u'登陆成功...')\n",
    "        \n",
    "        \n",
    "    except Exception as e:      \n",
    "        print(\"Error: \",e)\n",
    "    finally:    \n",
    "        print(u'End LoginWeibo!\\n\\n')"
   ]
  },
  {
   "cell_type": "code",
   "execution_count": 101,
   "metadata": {},
   "outputs": [],
   "source": [
    "# authentication details\n",
    "username = 'ruoyzhang@outlook.com'\n",
    "password = 'Cyfloel1.1.'"
   ]
  },
  {
   "cell_type": "code",
   "execution_count": 102,
   "metadata": {},
   "outputs": [
    {
     "name": "stdout",
     "output_type": "stream",
     "text": [
      "准备登陆Weibo.cn网站...\n",
      "https://login.sina.com.cn/signup/signin.php\n",
      "[{'name': 'ULOGIN_IMG', 'value': 'gz-838d94bde72148f55ec1d7f38ccd8cffe06f', 'path': '/', 'domain': '.sina.com.cn', 'secure': False, 'httpOnly': False}]\n",
      "输出Cookie键值对信息:\n",
      "name ULOGIN_IMG\n",
      "value gz-838d94bde72148f55ec1d7f38ccd8cffe06f\n",
      "path /\n",
      "domain .sina.com.cn\n",
      "secure False\n",
      "httpOnly False\n",
      "登陆成功...\n",
      "End LoginWeibo!\n",
      "\n",
      "\n"
     ]
    }
   ],
   "source": [
    "LoginWeibo(username, password)"
   ]
  },
  {
   "cell_type": "markdown",
   "metadata": {},
   "source": [
    "\n",
    "Now from here on let's try out how we can execute advanced search by using 's.weibo.com'"
   ]
  },
  {
   "cell_type": "code",
   "execution_count": 112,
   "metadata": {
    "collapsed": true
   },
   "outputs": [
    {
     "ename": "NoSuchElementException",
     "evalue": "Message: Unable to locate element: //a[@node-type='advsearch']\n",
     "output_type": "error",
     "traceback": [
      "\u001b[0;31m---------------------------------------------------------------------------\u001b[0m",
      "\u001b[0;31mNoSuchElementException\u001b[0m                    Traceback (most recent call last)",
      "\u001b[0;32m<ipython-input-112-7c8c5ef3bdcc>\u001b[0m in \u001b[0;36m<module>\u001b[0;34m()\u001b[0m\n\u001b[1;32m     11\u001b[0m \u001b[0;34m\u001b[0m\u001b[0m\n\u001b[1;32m     12\u001b[0m \u001b[0;31m# now we try to instruct selenium to click on the 'advacned search' bottom\u001b[0m\u001b[0;34m\u001b[0m\u001b[0;34m\u001b[0m\u001b[0m\n\u001b[0;32m---> 13\u001b[0;31m \u001b[0mdriver\u001b[0m\u001b[0;34m.\u001b[0m\u001b[0mfind_element_by_xpath\u001b[0m\u001b[0;34m(\u001b[0m\u001b[0;34m\"//a[@node-type='advsearch']\"\u001b[0m\u001b[0;34m)\u001b[0m\u001b[0;34m.\u001b[0m\u001b[0mclick\u001b[0m\u001b[0;34m(\u001b[0m\u001b[0;34m)\u001b[0m\u001b[0;34m\u001b[0m\u001b[0m\n\u001b[0m",
      "\u001b[0;32m~/anaconda3/lib/python3.6/site-packages/selenium/webdriver/remote/webdriver.py\u001b[0m in \u001b[0;36mfind_element_by_xpath\u001b[0;34m(self, xpath)\u001b[0m\n\u001b[1;32m    392\u001b[0m             \u001b[0melement\u001b[0m \u001b[0;34m=\u001b[0m \u001b[0mdriver\u001b[0m\u001b[0;34m.\u001b[0m\u001b[0mfind_element_by_xpath\u001b[0m\u001b[0;34m(\u001b[0m\u001b[0;34m'//div/td[1]'\u001b[0m\u001b[0;34m)\u001b[0m\u001b[0;34m\u001b[0m\u001b[0m\n\u001b[1;32m    393\u001b[0m         \"\"\"\n\u001b[0;32m--> 394\u001b[0;31m         \u001b[0;32mreturn\u001b[0m \u001b[0mself\u001b[0m\u001b[0;34m.\u001b[0m\u001b[0mfind_element\u001b[0m\u001b[0;34m(\u001b[0m\u001b[0mby\u001b[0m\u001b[0;34m=\u001b[0m\u001b[0mBy\u001b[0m\u001b[0;34m.\u001b[0m\u001b[0mXPATH\u001b[0m\u001b[0;34m,\u001b[0m \u001b[0mvalue\u001b[0m\u001b[0;34m=\u001b[0m\u001b[0mxpath\u001b[0m\u001b[0;34m)\u001b[0m\u001b[0;34m\u001b[0m\u001b[0m\n\u001b[0m\u001b[1;32m    395\u001b[0m \u001b[0;34m\u001b[0m\u001b[0m\n\u001b[1;32m    396\u001b[0m     \u001b[0;32mdef\u001b[0m \u001b[0mfind_elements_by_xpath\u001b[0m\u001b[0;34m(\u001b[0m\u001b[0mself\u001b[0m\u001b[0;34m,\u001b[0m \u001b[0mxpath\u001b[0m\u001b[0;34m)\u001b[0m\u001b[0;34m:\u001b[0m\u001b[0;34m\u001b[0m\u001b[0m\n",
      "\u001b[0;32m~/anaconda3/lib/python3.6/site-packages/selenium/webdriver/remote/webdriver.py\u001b[0m in \u001b[0;36mfind_element\u001b[0;34m(self, by, value)\u001b[0m\n\u001b[1;32m    976\u001b[0m         return self.execute(Command.FIND_ELEMENT, {\n\u001b[1;32m    977\u001b[0m             \u001b[0;34m'using'\u001b[0m\u001b[0;34m:\u001b[0m \u001b[0mby\u001b[0m\u001b[0;34m,\u001b[0m\u001b[0;34m\u001b[0m\u001b[0m\n\u001b[0;32m--> 978\u001b[0;31m             'value': value})['value']\n\u001b[0m\u001b[1;32m    979\u001b[0m \u001b[0;34m\u001b[0m\u001b[0m\n\u001b[1;32m    980\u001b[0m     \u001b[0;32mdef\u001b[0m \u001b[0mfind_elements\u001b[0m\u001b[0;34m(\u001b[0m\u001b[0mself\u001b[0m\u001b[0;34m,\u001b[0m \u001b[0mby\u001b[0m\u001b[0;34m=\u001b[0m\u001b[0mBy\u001b[0m\u001b[0;34m.\u001b[0m\u001b[0mID\u001b[0m\u001b[0;34m,\u001b[0m \u001b[0mvalue\u001b[0m\u001b[0;34m=\u001b[0m\u001b[0;32mNone\u001b[0m\u001b[0;34m)\u001b[0m\u001b[0;34m:\u001b[0m\u001b[0;34m\u001b[0m\u001b[0m\n",
      "\u001b[0;32m~/anaconda3/lib/python3.6/site-packages/selenium/webdriver/remote/webdriver.py\u001b[0m in \u001b[0;36mexecute\u001b[0;34m(self, driver_command, params)\u001b[0m\n\u001b[1;32m    319\u001b[0m         \u001b[0mresponse\u001b[0m \u001b[0;34m=\u001b[0m \u001b[0mself\u001b[0m\u001b[0;34m.\u001b[0m\u001b[0mcommand_executor\u001b[0m\u001b[0;34m.\u001b[0m\u001b[0mexecute\u001b[0m\u001b[0;34m(\u001b[0m\u001b[0mdriver_command\u001b[0m\u001b[0;34m,\u001b[0m \u001b[0mparams\u001b[0m\u001b[0;34m)\u001b[0m\u001b[0;34m\u001b[0m\u001b[0m\n\u001b[1;32m    320\u001b[0m         \u001b[0;32mif\u001b[0m \u001b[0mresponse\u001b[0m\u001b[0;34m:\u001b[0m\u001b[0;34m\u001b[0m\u001b[0m\n\u001b[0;32m--> 321\u001b[0;31m             \u001b[0mself\u001b[0m\u001b[0;34m.\u001b[0m\u001b[0merror_handler\u001b[0m\u001b[0;34m.\u001b[0m\u001b[0mcheck_response\u001b[0m\u001b[0;34m(\u001b[0m\u001b[0mresponse\u001b[0m\u001b[0;34m)\u001b[0m\u001b[0;34m\u001b[0m\u001b[0m\n\u001b[0m\u001b[1;32m    322\u001b[0m             response['value'] = self._unwrap_value(\n\u001b[1;32m    323\u001b[0m                 response.get('value', None))\n",
      "\u001b[0;32m~/anaconda3/lib/python3.6/site-packages/selenium/webdriver/remote/errorhandler.py\u001b[0m in \u001b[0;36mcheck_response\u001b[0;34m(self, response)\u001b[0m\n\u001b[1;32m    240\u001b[0m                 \u001b[0malert_text\u001b[0m \u001b[0;34m=\u001b[0m \u001b[0mvalue\u001b[0m\u001b[0;34m[\u001b[0m\u001b[0;34m'alert'\u001b[0m\u001b[0;34m]\u001b[0m\u001b[0;34m.\u001b[0m\u001b[0mget\u001b[0m\u001b[0;34m(\u001b[0m\u001b[0;34m'text'\u001b[0m\u001b[0;34m)\u001b[0m\u001b[0;34m\u001b[0m\u001b[0m\n\u001b[1;32m    241\u001b[0m             \u001b[0;32mraise\u001b[0m \u001b[0mexception_class\u001b[0m\u001b[0;34m(\u001b[0m\u001b[0mmessage\u001b[0m\u001b[0;34m,\u001b[0m \u001b[0mscreen\u001b[0m\u001b[0;34m,\u001b[0m \u001b[0mstacktrace\u001b[0m\u001b[0;34m,\u001b[0m \u001b[0malert_text\u001b[0m\u001b[0;34m)\u001b[0m\u001b[0;34m\u001b[0m\u001b[0m\n\u001b[0;32m--> 242\u001b[0;31m         \u001b[0;32mraise\u001b[0m \u001b[0mexception_class\u001b[0m\u001b[0;34m(\u001b[0m\u001b[0mmessage\u001b[0m\u001b[0;34m,\u001b[0m \u001b[0mscreen\u001b[0m\u001b[0;34m,\u001b[0m \u001b[0mstacktrace\u001b[0m\u001b[0;34m)\u001b[0m\u001b[0;34m\u001b[0m\u001b[0m\n\u001b[0m\u001b[1;32m    243\u001b[0m \u001b[0;34m\u001b[0m\u001b[0m\n\u001b[1;32m    244\u001b[0m     \u001b[0;32mdef\u001b[0m \u001b[0m_value_or_default\u001b[0m\u001b[0;34m(\u001b[0m\u001b[0mself\u001b[0m\u001b[0;34m,\u001b[0m \u001b[0mobj\u001b[0m\u001b[0;34m,\u001b[0m \u001b[0mkey\u001b[0m\u001b[0;34m,\u001b[0m \u001b[0mdefault\u001b[0m\u001b[0;34m)\u001b[0m\u001b[0;34m:\u001b[0m\u001b[0;34m\u001b[0m\u001b[0m\n",
      "\u001b[0;31mNoSuchElementException\u001b[0m: Message: Unable to locate element: //a[@node-type='advsearch']\n"
     ]
    }
   ],
   "source": [
    "# navigate to the search interface\n",
    "driver.get(\"http://s.weibo.com/\")\n",
    "\n",
    "# set search key value\n",
    "key = '人工智能'\n",
    "\n",
    "# input the search key and hit enter in order to advance to the advanced search interface\n",
    "item_inp = driver.find_element_by_xpath(\"//input[@type='text']\")\n",
    "item_inp.send_keys(key)\n",
    "item_inp.send_keys(Keys.RETURN)"
   ]
  },
  {
   "cell_type": "code",
   "execution_count": 113,
   "metadata": {},
   "outputs": [],
   "source": [
    "# now we try to instruct selenium to click on the 'advacned search' bottom\n",
    "driver.find_element_by_xpath(\"//a[@node-type='advsearch']\").click()"
   ]
  },
  {
   "cell_type": "markdown",
   "metadata": {},
   "source": [
    "now we try to enter the specific search values, we take the below example\n",
    "\n",
    "\n",
    "key: 人工智能\n",
    "\n",
    "time: 01/04/2019 - 07/04/2019"
   ]
  },
  {
   "cell_type": "code",
   "execution_count": 14,
   "metadata": {},
   "outputs": [],
   "source": [
    "begin_date = '2019-4-1'\n",
    "begin_year = str(int(begin_date.split('-')[0]))\n",
    "begin_month = str(int(begin_date.split('-')[1])-1)\n",
    "begin_day = str(int(begin_date.split('-')[2]))\n",
    "\n",
    "\n",
    "end_date = '2019-4-7'\n",
    "end_year = str(int(end_date.split('-')[0]))\n",
    "end_month = str(int(end_date.split('-')[1])-1)\n",
    "end_day = str(int(end_date.split('-')[2]))"
   ]
  },
  {
   "cell_type": "code",
   "execution_count": 107,
   "metadata": {},
   "outputs": [],
   "source": [
    "# below for instructing selenium to click on the 'time' input field\n",
    "driver.find_element_by_xpath(\"//dd/input[@value='请选择日期'][1]\").click()"
   ]
  },
  {
   "cell_type": "code",
   "execution_count": 109,
   "metadata": {},
   "outputs": [],
   "source": [
    "# below for instructing selenium to select the right **YEAR** value\n",
    "driver.find_element_by_xpath(\"//div[@class='selector']/select[@class='year']\").click()\n",
    "driver.find_element_by_xpath(\"//div[@class='selector']/select[@class='year']/option[@value={}]\".format(begin_year)).click()"
   ]
  },
  {
   "cell_type": "code",
   "execution_count": 110,
   "metadata": {},
   "outputs": [],
   "source": [
    "# below for instructing selenium to select the right **MONTH** value\n",
    "driver.find_element_by_xpath(\"//div[@class='selector']/select[@class='month']\").click()\n",
    "driver.find_element_by_xpath(\"//div[@class='selector']/select[@class='month']/option[@value={}]\".format(begin_month)).click()"
   ]
  },
  {
   "cell_type": "code",
   "execution_count": 111,
   "metadata": {},
   "outputs": [],
   "source": [
    "# below for instructing selenium to select the right **DAY** value\n",
    "driver.find_element_by_xpath(\"//ul[@class='days']/li/a[@title='{}']\".format(begin_date)).click()"
   ]
  },
  {
   "cell_type": "markdown",
   "metadata": {},
   "source": [
    "Begin date input was successful, now let's replicate the strategy for end date"
   ]
  },
  {
   "cell_type": "code",
   "execution_count": 19,
   "metadata": {},
   "outputs": [],
   "source": [
    "driver.find_element_by_xpath(\"//dd/input[@value='请选择日期'][2]\").click()"
   ]
  },
  {
   "cell_type": "code",
   "execution_count": 20,
   "metadata": {},
   "outputs": [],
   "source": [
    "driver.find_element_by_xpath(\"//div[@class='selector']/select[@class='year']\").click()\n",
    "driver.find_element_by_xpath(\"//div[@class='selector']/select[@class='year']/option[@value={}]\".format(end_year)).click()"
   ]
  },
  {
   "cell_type": "code",
   "execution_count": 21,
   "metadata": {},
   "outputs": [],
   "source": [
    "driver.find_element_by_xpath(\"//div[@class='selector']/select[@class='month']\").click()\n",
    "driver.find_element_by_xpath(\"//div[@class='selector']/select[@class='month']/option[@value={}]\".format(end_month)).click()"
   ]
  },
  {
   "cell_type": "code",
   "execution_count": 22,
   "metadata": {},
   "outputs": [],
   "source": [
    "driver.find_element_by_xpath(\"//ul[@class='days']/li/a[@title='{}']\".format(end_date)).click()"
   ]
  },
  {
   "cell_type": "code",
   "execution_count": 23,
   "metadata": {},
   "outputs": [],
   "source": [
    "# click on the 'search' button\n",
    "driver.find_element_by_xpath(\"//div[@class='m-adv-search']/div[@class='btn-box']/a[@class='s-btn-a']\").click()"
   ]
  },
  {
   "cell_type": "markdown",
   "metadata": {},
   "source": [
    "## Now we move onto the actual scrapping part"
   ]
  },
  {
   "cell_type": "code",
   "execution_count": 49,
   "metadata": {},
   "outputs": [],
   "source": [
    "tweets = driver.find_elements_by_xpath(\"/html/body/div/div/div/div/div/div/div/div/div/p[@class='txt' and @node-type='feed_list_content']\")"
   ]
  },
  {
   "cell_type": "code",
   "execution_count": 50,
   "metadata": {
    "collapsed": true
   },
   "outputs": [
    {
     "name": "stdout",
     "output_type": "stream",
     "text": [
      "****** 0 ******\n",
      "//@人民日报:【感兴趣新职业？这些专业值得你关注！】①人工智能：35所高校新增审批；②智能科学与技术：96所高校新增备案；③机器人工程：101所高校新增备案；④数据科学与大数据技术：196所高校新增备案；⑤物联网工程：14所高校新增备案；⑥电子竞技运动与管理：2所高校新增备案。更多↓\n",
      " \n",
      "----------------------------\n",
      " \n",
      "****** 1 ******\n",
      "第三次参加CCF-GAIR （全球人工智能与机器人峰会），今年参加的是IoT专场，给大家介绍了小米AI和IoT的一些进展。很高兴和海尔CTO赵峰博士、西工大谢磊教授同台，也感谢北大邹月娴老师的主持。资深米粉谢磊老师在他的演讲中多次提到小米和小爱同学（图7、8、9），他的团队和小米语音团队的合作堪称产学 展开全文c\n",
      " \n",
      "----------------------------\n",
      " \n",
      "****** 2 ******\n",
      "【阿里开了家人工智能服饰店，想为你解决“今天穿什么”的难题】今日，阿里巴巴在香港落地了一家人工智能服饰店——“FashionAI概念店”（“时尚之心概念店”）。据称这家店铺是一家“快闪店”，7月4日到7日，只开4天。 阿里开了家人工智能服饰店，想为你解决“今天...\n",
      " \n",
      "----------------------------\n",
      " \n",
      "****** 3 ******\n",
      "科技改变生活，人工智能的时代来了，全程高能，哈哈哈哈哈笑成智障！ L超搞笑视频集锦的微博视频\n",
      " \n",
      "----------------------------\n",
      " \n",
      "****** 4 ******\n",
      "@吃鱼小书屋 【#转发赠书##吃鱼小书屋# 】 #意少书单#《机甲星球》邀你一起赴一场英雄的梦，开一扇想象的窗。人工智能觉醒，人类何去何从？不预设答案，只教你勇敢！评论求奖！\n",
      " \n",
      "----------------------------\n",
      " \n",
      "****** 5 ******\n",
      "//@人民日报:【感兴趣新职业？这些专业值得你关注！】①人工智能：35所高校新增审批；②智能科学与技术：96所高校新增备案；③机器人工程：101所高校新增备案；④数据科学与大数据技术：196所高校新增备案；⑤物联网工程：14所高校新增备案；⑥电子竞技运动与管理：2所高校新增备案。更多↓\n",
      " \n",
      "----------------------------\n",
      " \n",
      "****** 6 ******\n",
      "@吃鱼小书屋 【#转发赠书##吃鱼小书屋# 】 #意少书单#《机甲星球》邀你一起赴一场英雄的梦，开一扇想象的窗。人工智能觉醒，人类何去何从？不预设答案，只教你勇敢！评论求中！\n",
      " \n",
      "----------------------------\n",
      " \n",
      "****** 7 ******\n",
      "【好神奇！智能公交来了：扫手乘车，还有机器人教你换乘！】昨天，“自动驾驶熊猫智能公交”进行了全球首次发布。这款公交车到底有多神奇？记者到现场亲自体验：全车整合了二十多项新型的人工智能技术，AI机器视觉比例达到70%以上！以手掌静脉识别技术为例，只需提前进行简单注册，走上公交车的时候扫 展开全文c\n",
      " \n",
      "----------------------------\n",
      " \n",
      "****** 8 ******\n",
      "@吃鱼小书屋 【#转发赠书##吃鱼小书屋# 】 #意少书单#《机甲星球》邀你一起赴一场英雄的梦，开一扇想象的窗。人工智能觉醒，人类何去何从？不预设答案，只教你勇敢！评论求中奖！\n",
      " \n",
      "----------------------------\n",
      " \n",
      "****** 9 ******\n",
      "「你替Ava感到难过？替自己难过吧。将来有一天，人工智能回顾我们，就像我们回看非洲平原的化石一样。直立猿人，生活在尘土里，使用粗糙的语言和工具，全部灭绝。」\n",
      " \n",
      "----------------------------\n",
      " \n",
      "****** 10 ******\n",
      "//@人民日报:【感兴趣新职业？这些专业值得你关注！】①人工智能：35所高校新增审批；②智能科学与技术：96所高校新增备案；③机器人工程：101所高校新增备案；④数据科学与大数据技术：196所高校新增备案；⑤物联网工程：14所高校新增备案；⑥电子竞技运动与管理：2所高校新增备案。更多↓\n",
      " \n",
      "----------------------------\n",
      " \n",
      "****** 11 ******\n",
      "【感兴趣新职业？这些专业值得你关注！】①人工智能：35所高校新增审批；②智能科学与技术：96所高校新增备案；③机器人工程：101所高校新增备案；④数据科学与大数据技术：196所高校新增备案；⑤物联网工程：14所高校新增备案；⑥电子竞技运动与管理：2所高校新增备案。更多↓\n",
      " \n",
      "----------------------------\n",
      " \n",
      "****** 12 ******\n",
      "发布了头条文章：《繁荣该如何持续-简略版》 如何度过技术进步带来的失业潮 人工智能 #AI# O繁荣该如何持续-简略版\n",
      " \n",
      "----------------------------\n",
      " \n",
      "****** 13 ******\n",
      "#华样聊天#手机芯片听得多了，但你听说过AI芯片吗？简单来说，就是能将人工智能植入手机，让手机更懂我们的一款强大芯片。刚刚亮相的#华为Mate10#搭载的#麒麟970#芯片就是全球首款AI芯片哦采用10nm制程工艺的麒麟970，不仅在芯片上了集成了高达55亿个晶体管，更是首次集成了NPU单元，处理AI应用时. 展开全文c\n",
      " \n",
      "----------------------------\n",
      " \n",
      "****** 14 ******\n",
      "江科大居然也新增了人工智能专业\n",
      " \n",
      "----------------------------\n",
      " \n",
      "****** 15 ******\n",
      "【听说你又在熬夜查重降重了？】良心推荐你上@PaperYY论文查重 网站，免费查重无限制，报告加密无惧泄露超安全，检测库相对知网更为严格，还支持人工智能降重，写论文事半功倍。建议收藏→ O网页链接\n",
      " \n",
      "----------------------------\n",
      " \n",
      "****** 16 ******\n",
      "人间四月天，踏青好去处\n",
      "陕西新华你值得拥有\n",
      "人工智能，电竞，VR\n",
      "包食宿，报销车费，电话：029-89395969\n",
      " \n",
      "----------------------------\n",
      " \n",
      "****** 17 ******\n",
      "//@人民日报:【感兴趣新职业？这些专业值得你关注！】①人工智能：35所高校新增审批；②智能科学与技术：96所高校新增备案；③机器人工程：101所高校新增备案；④数据科学与大数据技术：196所高校新增备案；⑤物联网工程：14所高校新增备案；⑥电子竞技运动与管理：2所高校新增备案。更多↓\n",
      " \n",
      "----------------------------\n",
      " \n",
      "****** 18 ******\n",
      "人工智能企业榜单，中国平安位列第5！O网页链接 O网页链接\n",
      " \n",
      "----------------------------\n",
      " \n",
      "****** 19 ******\n",
      "//@人民日报:【感兴趣新职业？这些专业值得你关注！】①人工智能：35所高校新增审批；②智能科学与技术：96所高校新增备案；③机器人工程：101所高校新增备案；④数据科学与大数据技术：196所高校新增备案；⑤物联网工程：14所高校新增备案；⑥电子竞技运动与管理：2所高校新增备案。更多↓\n",
      " \n",
      "----------------------------\n",
      " \n"
     ]
    }
   ],
   "source": [
    "for i, tweet in enumerate(tweets):\n",
    "    print('******',str(i),'******')\n",
    "    print(tweet.text)\n",
    "    print(' ')\n",
    "    print('----------------------------')\n",
    "    print(' ')"
   ]
  },
  {
   "cell_type": "code",
   "execution_count": 51,
   "metadata": {},
   "outputs": [
    {
     "data": {
      "text/plain": [
       "20"
      ]
     },
     "execution_count": 51,
     "metadata": {},
     "output_type": "execute_result"
    }
   ],
   "source": [
    "len(tweets)"
   ]
  },
  {
   "cell_type": "markdown",
   "metadata": {},
   "source": [
    "So we have 20 tweets per page, and we have 50 pages of displayed results, this means a total of: **1000** tweets per search.\n",
    "\n",
    "HOWEVER, we notice a bunch of duplicated contents, no real added value, we consider doing the following:\n",
    "\n",
    "* Deduplication per page??  --> based on observation, this will not be very effective since we observe duplicated content across the pages\n",
    "* Deduplication per week --> this will definitely be more effective, however it requires me to run similarity calculations again:\n",
    "    1. strategy 1: cosine similarity with a computation complexity of n^2/2\n",
    "    2. stragey 2: Local sensitive hashing and min hash, need to brush up on the implementation I don't have the old code"
   ]
  },
  {
   "cell_type": "markdown",
   "metadata": {},
   "source": [
    "#### let's test out stategy 1 and see how much time it would take per week"
   ]
  },
  {
   "cell_type": "markdown",
   "metadata": {},
   "source": [
    "First of all, let's scrape off the content and store for a small sample (1000 tweets)"
   ]
  },
  {
   "cell_type": "markdown",
   "metadata": {},
   "source": [
    "extracting dates and other relevant information / fields"
   ]
  },
  {
   "cell_type": "code",
   "execution_count": 53,
   "metadata": {},
   "outputs": [],
   "source": [
    "# the below extracts date\n",
    "item_tweet_dates = driver.find_elements_by_xpath(\"/html/body/div/div/div/div/div/div/div/div/div/p[@class='from']\")"
   ]
  },
  {
   "cell_type": "code",
   "execution_count": 54,
   "metadata": {
    "collapsed": true
   },
   "outputs": [
    {
     "name": "stdout",
     "output_type": "stream",
     "text": [
      "****** 0 ******\n",
      "04月07日\n",
      " \n",
      "----------------------------\n",
      " \n",
      "****** 1 ******\n",
      "04月07日\n",
      " \n",
      "----------------------------\n",
      " \n",
      "****** 2 ******\n",
      "04月07日\n",
      " \n",
      "----------------------------\n",
      " \n",
      "****** 3 ******\n",
      "04月07日\n",
      " \n",
      "----------------------------\n",
      " \n",
      "****** 4 ******\n",
      "04月07日\n",
      " \n",
      "----------------------------\n",
      " \n",
      "****** 5 ******\n",
      "04月07日\n",
      " \n",
      "----------------------------\n",
      " \n",
      "****** 6 ******\n",
      "04月07日\n",
      " \n",
      "----------------------------\n",
      " \n",
      "****** 7 ******\n",
      "04月07日\n",
      " \n",
      "----------------------------\n",
      " \n",
      "****** 8 ******\n",
      "04月07日\n",
      " \n",
      "----------------------------\n",
      " \n",
      "****** 9 ******\n",
      "04月07日\n",
      " \n",
      "----------------------------\n",
      " \n",
      "****** 10 ******\n",
      "04月07日\n",
      " \n",
      "----------------------------\n",
      " \n",
      "****** 11 ******\n",
      "04月07日\n",
      " \n",
      "----------------------------\n",
      " \n",
      "****** 12 ******\n",
      "04月07日\n",
      " \n",
      "----------------------------\n",
      " \n",
      "****** 13 ******\n",
      "04月07日\n",
      " \n",
      "----------------------------\n",
      " \n",
      "****** 14 ******\n",
      "04月07日\n",
      " \n",
      "----------------------------\n",
      " \n",
      "****** 15 ******\n",
      "04月07日\n",
      " \n",
      "----------------------------\n",
      " \n",
      "****** 16 ******\n",
      "04月07日\n",
      " \n",
      "----------------------------\n",
      " \n",
      "****** 17 ******\n",
      "04月07日\n",
      " \n",
      "----------------------------\n",
      " \n",
      "****** 18 ******\n",
      "04月07日\n",
      " \n",
      "----------------------------\n",
      " \n",
      "****** 19 ******\n",
      "04月07日\n",
      " \n",
      "----------------------------\n",
      " \n"
     ]
    }
   ],
   "source": [
    "for i, date in enumerate(item_tweet_dates):\n",
    "    print('******',str(i),'******')\n",
    "    print(date.text.split(' ')[0])\n",
    "    print(' ')\n",
    "    print('----------------------------')\n",
    "    print(' ')\n"
   ]
  },
  {
   "cell_type": "code",
   "execution_count": 55,
   "metadata": {},
   "outputs": [
    {
     "data": {
      "text/plain": [
       "20"
      ]
     },
     "execution_count": 55,
     "metadata": {},
     "output_type": "execute_result"
    }
   ],
   "source": [
    "len(item_tweet_dates)"
   ]
  },
  {
   "cell_type": "markdown",
   "metadata": {},
   "source": [
    "turning the page"
   ]
  },
  {
   "cell_type": "code",
   "execution_count": 70,
   "metadata": {},
   "outputs": [],
   "source": [
    "item_page_next = driver.find_element_by_xpath(\"/html/body/div/div/div/div/div/div/a[@class='next']\")\n",
    "item_page_next.click()"
   ]
  },
  {
   "cell_type": "markdown",
   "metadata": {},
   "source": [
    "YUS"
   ]
  },
  {
   "cell_type": "markdown",
   "metadata": {},
   "source": [
    "Let's now try to program this whole thing"
   ]
  },
  {
   "cell_type": "code",
   "execution_count": 94,
   "metadata": {},
   "outputs": [],
   "source": [
    "class weibo_scrapper():\n",
    "\n",
    "\tdef __init__(self, begin_date, end_date, username, password, search_keyword):\n",
    "\t\t\"\"\"\n",
    "\t\tbegin_date & end_date: date limits for the research results\n",
    "\t\tusername & password: user authentication\n",
    "\t\tsearch_keyword: the keyword used for Weibo advanced search\n",
    "\t\t\"\"\"\n",
    "\n",
    "\t\t# storing vars as class vars\n",
    "\t\tself.begin_date = begin_date\n",
    "\t\tself.end_date = end_date\n",
    "\t\tself.username = username\n",
    "\t\tself.password = password\n",
    "\t\tself.keyword = search_keyword\n",
    "\n",
    "\t\t# setting up the driver as a class method I guess?\n",
    "\t\tself.driver = webdriver.Firefox()\n",
    "\n",
    "\n",
    "\tdef Login_Weibo(self):\n",
    "\t\t\"\"\"\n",
    "\t\tfunction used to log into Weibo\n",
    "\t\tvars are self explanatory\n",
    "\t\t\"\"\"\n",
    "\t\ttry:\n",
    "\t\t\t# inputting username and password\n",
    "\t\t\tprint(\"Loading 'login.sina.com.cn' now\")\n",
    "\t\t\tself.driver.get(\"http://login.sina.com.cn/\")\n",
    "\t\t\tprint('pausing for 20s')\n",
    "\t\t\ttime.sleep(20)\n",
    "\t\t\telem_user = self.driver.find_element_by_name(\"username\")\n",
    "\t\t\telem_user.send_keys(self.username)\n",
    "\t\t\telem_pwd = self.driver.find_element_by_name(\"password\")\n",
    "\t\t\telem_pwd.send_keys(self.password)\n",
    "\n",
    "\t\t\t# IMPORTANT: a temporary pause of 20s to bypass graphic verification\n",
    "\t\t\ttime.sleep(20)\n",
    "\n",
    "\t\t\t# now login via the enter key\n",
    "\t\t\telem_pwd.send_keys(Keys.RETURN)\n",
    "\t\t\t# and then wait for 2s\n",
    "\t\t\ttime.sleep(2)\n",
    "\n",
    "\t\t\t# getting the cookie used for login in later\n",
    "\t\t\tprint(self.driver.current_url)\n",
    "\t\t\tprint(self.driver.get_cookies())\n",
    "\t\t\tprint('Outputting the cookie info')\n",
    "\t\t\tfor cookie in self.driver.get_cookies():\n",
    "\t\t\t\tfor key in cookie:\n",
    "\t\t\t\t\tprint(key, cookie[key])\n",
    "\n",
    "\t\t\tprint('login successful')\n",
    "\n",
    "\t\t# handle exceptions and printing out error in case\n",
    "\t\texcept Exception as e:\n",
    "\t\t\tprint(\"Error: \", e)\n",
    "\t\tfinally:\n",
    "\t\t\tprint('End of login')"
   ]
  },
  {
   "cell_type": "code",
   "execution_count": 95,
   "metadata": {},
   "outputs": [],
   "source": [
    "scrapper = weibo_scrapper(begin_date, end_date, username, password, search_keyword='人工智能')"
   ]
  },
  {
   "cell_type": "code",
   "execution_count": 96,
   "metadata": {},
   "outputs": [
    {
     "name": "stdout",
     "output_type": "stream",
     "text": [
      "Loading 'login.sina.com.cn' now\n",
      "https://login.sina.com.cn/signup/signin.php\n",
      "[{'name': 'ULOGIN_IMG', 'value': 'gz-12a1dd557f52e274dcf5e7ff55e4900ab9a1', 'path': '/', 'domain': '.sina.com.cn', 'secure': False, 'httpOnly': False}, {'name': 'SCF', 'value': 'AroVeKLOl_A-nkBKDyf0SH3vjHFrZACp5G1rDQcDcI371D_gYz0x09yCmX8bue31XbuDLxuoXcyWsNlPOIcjzBU.', 'path': '/', 'domain': '.sina.com.cn', 'secure': False, 'httpOnly': True, 'expiry': 1870696052}, {'name': 'tgc', 'value': 'TGT-NzA3MTcwOTQwNw==-1555336053-gz-BF198D9BAC09D3998154B97B452B9A19-1', 'path': '/', 'domain': '.login.sina.com.cn', 'secure': False, 'httpOnly': True}, {'name': 'SUB', 'value': '_2A25xsPslDeRhGeFO7FMW8CfIyzuIHXVSxGvtrDV_PUNbm9BeLWnBkW9NQUepNUcLLq_S9LSbbfymRuyyEnl6KDKm', 'path': '/', 'domain': '.sina.com.cn', 'secure': False, 'httpOnly': True}, {'name': 'SUBP', 'value': '0033WrSXqPxfM725Ws9jqgMF55529P9D9WFj.G74qcYWJ5RDpGXlI4xT5NHD95QNehMpS054Sh5NWs4DqcjZKGHLI-iadXiad7tt', 'path': '/', 'domain': '.sina.com.cn', 'secure': False, 'httpOnly': False}, {'name': 'ALC', 'value': 'ac%3D0%26bt%3D1555336053%26cv%3D5.0%26et%3D1586872053%26ic%3D1392454434%26login_time%3D1555336052%26scf%3D%26uid%3D7071709407%26vf%3D0%26vs%3D0%26vt%3D0%26es%3D671ff77b51634fb7182c05ac0c41c698', 'path': '/', 'domain': '.login.sina.com.cn', 'secure': False, 'httpOnly': True, 'expiry': 1586872053}, {'name': 'ALF', 'value': '1586872053', 'path': '/', 'domain': '.sina.com.cn', 'secure': False, 'httpOnly': False, 'expiry': 1586872053}, {'name': 'LT', 'value': '1555336053', 'path': '/', 'domain': '.login.sina.com.cn', 'secure': False, 'httpOnly': False}, {'name': 'sso_info', 'value': 'v02m6alo5qztYydlpWpkKa9r5Cmva-Jp5WpmYO0t4yDnLGNs4C5jYOAtw==', 'path': '/', 'domain': '.sina.com.cn', 'secure': False, 'httpOnly': False, 'expiry': 1586958453}, {'name': 'cREMloginname', 'value': 'ruoyzhang%40outlook.com', 'path': '/', 'domain': 'login.sina.com.cn', 'secure': False, 'httpOnly': False, 'expiry': 1555338644}]\n",
      "Outputting the cookie info\n",
      "name ULOGIN_IMG\n",
      "value gz-12a1dd557f52e274dcf5e7ff55e4900ab9a1\n",
      "path /\n",
      "domain .sina.com.cn\n",
      "secure False\n",
      "httpOnly False\n",
      "name SCF\n",
      "value AroVeKLOl_A-nkBKDyf0SH3vjHFrZACp5G1rDQcDcI371D_gYz0x09yCmX8bue31XbuDLxuoXcyWsNlPOIcjzBU.\n",
      "path /\n",
      "domain .sina.com.cn\n",
      "secure False\n",
      "httpOnly True\n",
      "expiry 1870696052\n",
      "name tgc\n",
      "value TGT-NzA3MTcwOTQwNw==-1555336053-gz-BF198D9BAC09D3998154B97B452B9A19-1\n",
      "path /\n",
      "domain .login.sina.com.cn\n",
      "secure False\n",
      "httpOnly True\n",
      "name SUB\n",
      "value _2A25xsPslDeRhGeFO7FMW8CfIyzuIHXVSxGvtrDV_PUNbm9BeLWnBkW9NQUepNUcLLq_S9LSbbfymRuyyEnl6KDKm\n",
      "path /\n",
      "domain .sina.com.cn\n",
      "secure False\n",
      "httpOnly True\n",
      "name SUBP\n",
      "value 0033WrSXqPxfM725Ws9jqgMF55529P9D9WFj.G74qcYWJ5RDpGXlI4xT5NHD95QNehMpS054Sh5NWs4DqcjZKGHLI-iadXiad7tt\n",
      "path /\n",
      "domain .sina.com.cn\n",
      "secure False\n",
      "httpOnly False\n",
      "name ALC\n",
      "value ac%3D0%26bt%3D1555336053%26cv%3D5.0%26et%3D1586872053%26ic%3D1392454434%26login_time%3D1555336052%26scf%3D%26uid%3D7071709407%26vf%3D0%26vs%3D0%26vt%3D0%26es%3D671ff77b51634fb7182c05ac0c41c698\n",
      "path /\n",
      "domain .login.sina.com.cn\n",
      "secure False\n",
      "httpOnly True\n",
      "expiry 1586872053\n",
      "name ALF\n",
      "value 1586872053\n",
      "path /\n",
      "domain .sina.com.cn\n",
      "secure False\n",
      "httpOnly False\n",
      "expiry 1586872053\n",
      "name LT\n",
      "value 1555336053\n",
      "path /\n",
      "domain .login.sina.com.cn\n",
      "secure False\n",
      "httpOnly False\n",
      "name sso_info\n",
      "value v02m6alo5qztYydlpWpkKa9r5Cmva-Jp5WpmYO0t4yDnLGNs4C5jYOAtw==\n",
      "path /\n",
      "domain .sina.com.cn\n",
      "secure False\n",
      "httpOnly False\n",
      "expiry 1586958453\n",
      "name cREMloginname\n",
      "value ruoyzhang%40outlook.com\n",
      "path /\n",
      "domain login.sina.com.cn\n",
      "secure False\n",
      "httpOnly False\n",
      "expiry 1555338644\n",
      "login successful\n",
      "End of login\n"
     ]
    }
   ],
   "source": [
    "scrapper.Login_Weibo()"
   ]
  },
  {
   "cell_type": "code",
   "execution_count": null,
   "metadata": {},
   "outputs": [],
   "source": []
  }
 ],
 "metadata": {
  "kernelspec": {
   "display_name": "Python 3",
   "language": "python",
   "name": "python3"
  },
  "language_info": {
   "codemirror_mode": {
    "name": "ipython",
    "version": 3
   },
   "file_extension": ".py",
   "mimetype": "text/x-python",
   "name": "python",
   "nbconvert_exporter": "python",
   "pygments_lexer": "ipython3",
   "version": "3.6.4"
  }
 },
 "nbformat": 4,
 "nbformat_minor": 2
}
